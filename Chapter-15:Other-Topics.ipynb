{
  "cells": [
    {
      "cell_type": "markdown",
      "metadata": {
        "id": "view-in-github",
        "colab_type": "text"
      },
      "source": [
        "<a href=\"https://colab.research.google.com/github/kbehrman/Ca-legislature-explorations/blob/master/Chapter-15%3AOther-Topics.ipynb\" target=\"_parent\"><img src=\"https://colab.research.google.com/assets/colab-badge.svg\" alt=\"Open In Colab\"/></a>"
      ]
    },
    {
      "cell_type": "markdown",
      "metadata": {
        "id": "L3GnFhEJdqVG"
      },
      "source": [
        "In this chapter we will cover some functionaliy and packages that are powerful tools for data science. These are sorting data, reading and writing files, datetime objects and regular expressions. I will try to give you enough familiarity with these topics that you will understand when you need them.\n",
        "\n"
      ]
    },
    {
      "cell_type": "markdown",
      "metadata": {
        "id": "gNblbGGLih3k"
      },
      "source": [
        "## Sorting\n",
        "\n",
        "Some Python data structures such as lists, NumPy arrays and Pandas DataFrames have built in sorting capabilities. These methods can be used out of the box, or customized with your own sorting functions.\n",
        "\n",
        "## Lists\n",
        "Python lists have a built-in sort() method. This method sorts the list in place. For example, if we define a list of whale types:"
      ]
    },
    {
      "cell_type": "code",
      "execution_count": null,
      "metadata": {
        "id": "Ynz8V9Rmit5u"
      },
      "outputs": [],
      "source": [
        "whales = [ 'Blue', 'Killer', 'Sperm', 'Humpback', 'Beluga', 'Bowhead' ]"
      ]
    },
    {
      "cell_type": "markdown",
      "metadata": {
        "id": "1v3hnaSc3xQw"
      },
      "source": [
        "And use it's sort() method, we see that the list is now sorted:"
      ]
    },
    {
      "cell_type": "code",
      "execution_count": null,
      "metadata": {
        "colab": {
          "base_uri": "https://localhost:8080/"
        },
        "id": "s6Pl6EzkjDaf",
        "outputId": "9918312d-aba8-4150-8f74-742d55cfdf52"
      },
      "outputs": [
        {
          "output_type": "execute_result",
          "data": {
            "text/plain": [
              "['Beluga', 'Blue', 'Bowhead', 'Humpback', 'Killer', 'Sperm']"
            ]
          },
          "metadata": {},
          "execution_count": 2
        }
      ],
      "source": [
        "whales.sort()\n",
        "whales"
      ]
    },
    {
      "cell_type": "markdown",
      "metadata": {
        "id": "WjNvQgZL4BDL"
      },
      "source": [
        "This method does not return a copy of the list, if we capture the return, we see that it is None:"
      ]
    },
    {
      "cell_type": "code",
      "execution_count": null,
      "metadata": {
        "colab": {
          "base_uri": "https://localhost:8080/"
        },
        "id": "M2VcgmpE35q9",
        "outputId": "3c3e39aa-4f57-42e7-eb39-57e42cbdf73b"
      },
      "outputs": [
        {
          "output_type": "stream",
          "name": "stdout",
          "text": [
            "None\n"
          ]
        }
      ],
      "source": [
        "return_value = whales.sort()\n",
        "print(return_value)"
      ]
    },
    {
      "cell_type": "markdown",
      "metadata": {
        "id": "ixkf9EWC4Qao"
      },
      "source": [
        "Python has a built-in function, sorted(), which takes any iterable as an argument, and returns a sorted list:"
      ]
    },
    {
      "cell_type": "code",
      "execution_count": null,
      "metadata": {
        "colab": {
          "base_uri": "https://localhost:8080/"
        },
        "id": "lhTPz_J3jK0F",
        "outputId": "b45f62a7-66eb-4c5e-bca9-fd2e0499f59e"
      },
      "outputs": [
        {
          "output_type": "execute_result",
          "data": {
            "text/plain": [
              "['Beluga', 'Blue', 'Bowhead', 'Humpback', 'Killer', 'Sperm']"
            ]
          },
          "metadata": {},
          "execution_count": 4
        }
      ],
      "source": [
        "sorted(whales)"
      ]
    },
    {
      "cell_type": "markdown",
      "metadata": {
        "id": "YoOfYEjX4szh"
      },
      "source": [
        "We can use sorted on any iterable. If we call it on a string, it returns a sorted list of the strings characters:"
      ]
    },
    {
      "cell_type": "code",
      "execution_count": null,
      "metadata": {
        "colab": {
          "base_uri": "https://localhost:8080/"
        },
        "id": "FMY3-ord4le3",
        "outputId": "897cdb52-b236-4738-8875-a6ed92a3a8bb"
      },
      "outputs": [
        {
          "output_type": "execute_result",
          "data": {
            "text/plain": [
              "[' ', 'D', 'M', 'b', 'c', 'i', 'k', 'o', 'y']"
            ]
          },
          "metadata": {},
          "execution_count": 5
        }
      ],
      "source": [
        "sorted(\"Moby Dick\")"
      ]
    },
    {
      "cell_type": "markdown",
      "metadata": {
        "id": "2qVZyg9-5YrT"
      },
      "source": [
        "Both the list.sort() method and the sorted() function take an optional reverse parameter, which defaults to False:"
      ]
    },
    {
      "cell_type": "code",
      "execution_count": null,
      "metadata": {
        "colab": {
          "base_uri": "https://localhost:8080/"
        },
        "id": "Zz-xTzILjIQz",
        "outputId": "db94e9c1-4bd1-434c-e715-7cb5f976cf13"
      },
      "outputs": [
        {
          "output_type": "execute_result",
          "data": {
            "text/plain": [
              "['Sperm', 'Killer', 'Humpback', 'Bowhead', 'Blue', 'Beluga']"
            ]
          },
          "metadata": {},
          "execution_count": 6
        }
      ],
      "source": [
        "sorted(whales, reverse=True)"
      ]
    },
    {
      "cell_type": "markdown",
      "metadata": {
        "id": "KFthH0ud5qt0"
      },
      "source": [
        "And both also take an option key argument. This is used to define how the sorting should be defined. To sort our whale types using the length of the strings, we can define a lambda which returns string length, and pass it as the key:"
      ]
    },
    {
      "cell_type": "code",
      "execution_count": null,
      "metadata": {
        "colab": {
          "base_uri": "https://localhost:8080/"
        },
        "id": "a6rJ6k0Epihu",
        "outputId": "c66c4b22-b9ea-4027-d6f8-3d3f61e08fe9"
      },
      "outputs": [
        {
          "output_type": "execute_result",
          "data": {
            "text/plain": [
              "['Blue', 'Sperm', 'Beluga', 'Killer', 'Bowhead', 'Humpback']"
            ]
          },
          "metadata": {},
          "execution_count": 7
        }
      ],
      "source": [
        "sorted(whales, key=lambda x: len(x))"
      ]
    },
    {
      "cell_type": "markdown",
      "metadata": {
        "id": "5iMBHTdF6EXk"
      },
      "source": [
        "We can also define more complex key functions. Below we define a function which will return the lenght of a string, unless that string is 'Beluga', in which case it returns 1. The result of using this as our key function is to sort the list by string length, except for 'Beluga', which is placed first:"
      ]
    },
    {
      "cell_type": "code",
      "execution_count": null,
      "metadata": {
        "colab": {
          "base_uri": "https://localhost:8080/"
        },
        "id": "Qp1PSm46poXX",
        "outputId": "5a59a98e-5ca5-47c8-feff-c72007f80918"
      },
      "outputs": [
        {
          "output_type": "execute_result",
          "data": {
            "text/plain": [
              "['Beluga', 'Blue', 'Sperm', 'Killer', 'Bowhead', 'Humpback']"
            ]
          },
          "metadata": {},
          "execution_count": 8
        }
      ],
      "source": [
        "def beluga_first(item):\n",
        "    if item == 'Beluga':\n",
        "        return 1\n",
        "    return len(item)\n",
        "\n",
        "sorted(whales, key=beluga_first)"
      ]
    },
    {
      "cell_type": "markdown",
      "metadata": {
        "id": "JxH3xfts6pZJ"
      },
      "source": [
        "We can also use sorted() with classes that we define. In listing 16.1 we define a class Food, instantiate four instances of it, and then sort them using the attribute rating as a sort key."
      ]
    },
    {
      "cell_type": "code",
      "execution_count": null,
      "metadata": {
        "colab": {
          "base_uri": "https://localhost:8080/"
        },
        "id": "hWjp7RHsqacJ",
        "outputId": "c8adc75f-bc16-47c9-9b28-c04c7f954c28"
      },
      "outputs": [
        {
          "output_type": "execute_result",
          "data": {
            "text/plain": [
              "[Food(3, Bannana), Food(9, Orange), Food(2, Tomato), Food(1, Olive)]"
            ]
          },
          "metadata": {},
          "execution_count": 9
        }
      ],
      "source": [
        "class Food():\n",
        "    def __init__(self, rating, name):\n",
        "        self.rating = rating\n",
        "        self.name = name\n",
        "\n",
        "    def __repr__(self):\n",
        "        return f'Food({self.rating}, {self.name})'\n",
        "\n",
        "foods = [Food(3, 'Bannana'), \n",
        "         Food(9, 'Orange'),\n",
        "         Food(2, 'Tomato'),\n",
        "         Food(1, 'Olive')]\n",
        "\n",
        "foods"
      ]
    },
    {
      "cell_type": "code",
      "execution_count": null,
      "metadata": {
        "colab": {
          "base_uri": "https://localhost:8080/"
        },
        "id": "WLVzf0FdrdZI",
        "outputId": "1c9b9f2d-1ec8-4a27-f687-d30b7c8d72b3"
      },
      "outputs": [
        {
          "output_type": "execute_result",
          "data": {
            "text/plain": [
              "[Food(1, Olive), Food(2, Tomato), Food(3, Bannana), Food(9, Orange)]"
            ]
          },
          "metadata": {},
          "execution_count": 10
        }
      ],
      "source": [
        "sorted(foods, key=lambda x: x.rating)"
      ]
    },
    {
      "cell_type": "markdown",
      "metadata": {
        "id": "1QFYPaz0k4fj"
      },
      "source": [
        "https://www.whalefacts.org/how-big-are-whales/\n",
        "\n",
        "insertion order of keys preserved 3.7\n",
        "https://docs.python.org/3/whatsnew/3.7.html\n",
        "\n",
        "Is you call sorted on a dictionary, it will return a sorted list of the dictionaries key names. As of Python 3.7, dictionary keys are ordered in the order that they were inserted into the dictionary. In listing 16.2 we create a dictionary of whale weights base on data from whalefacts.org. We print the dictionary keys to demonstrate they retain the order in which they were inserted. We then use sorted() to get a list of key names sorted alphanumerically. We use this to print out the whale name and weight in order."
      ]
    },
    {
      "cell_type": "code",
      "execution_count": null,
      "metadata": {
        "id": "Xdl6EWbLjUDd"
      },
      "outputs": [],
      "source": [
        "wieghts = {'Blue': 300000, \n",
        "           'Killer': 12000,\n",
        "           'Sperm': 100000,\n",
        "           'Humpback': 78000,\n",
        "           'Beluga':  3500,\n",
        "           'Bowhead': 200000 }"
      ]
    },
    {
      "cell_type": "code",
      "execution_count": null,
      "metadata": {
        "colab": {
          "base_uri": "https://localhost:8080/"
        },
        "id": "xmP-RZuyolqR",
        "outputId": "d8205932-548c-425e-a760-b15df4437d37"
      },
      "outputs": [
        {
          "output_type": "stream",
          "name": "stdout",
          "text": [
            "Blue\n",
            "Killer\n",
            "Sperm\n",
            "Humpback\n",
            "Beluga\n",
            "Bowhead\n"
          ]
        }
      ],
      "source": [
        "for key in wieghts:\n",
        "    print(key)"
      ]
    },
    {
      "cell_type": "code",
      "execution_count": null,
      "metadata": {
        "colab": {
          "base_uri": "https://localhost:8080/"
        },
        "id": "tOJb7fD_oqWR",
        "outputId": "d2dc3cd6-0888-4253-a837-7f673307a6f1"
      },
      "outputs": [
        {
          "output_type": "execute_result",
          "data": {
            "text/plain": [
              "['Beluga', 'Blue', 'Bowhead', 'Humpback', 'Killer', 'Sperm']"
            ]
          },
          "metadata": {},
          "execution_count": 13
        }
      ],
      "source": [
        "sorted(wieghts)"
      ]
    },
    {
      "cell_type": "code",
      "execution_count": null,
      "metadata": {
        "colab": {
          "base_uri": "https://localhost:8080/"
        },
        "id": "X3QPuOGUo-9J",
        "outputId": "a5ba5208-7ac2-4b1b-e2ed-d19a0e632552"
      },
      "outputs": [
        {
          "output_type": "stream",
          "name": "stdout",
          "text": [
            "Beluga 3500\n",
            "Blue 300000\n",
            "Bowhead 200000\n",
            "Humpback 78000\n",
            "Killer 12000\n",
            "Sperm 100000\n"
          ]
        }
      ],
      "source": [
        "for key in sorted(wieghts):\n",
        "    print(f'{key} {wieghts[key]}')"
      ]
    },
    {
      "cell_type": "markdown",
      "metadata": {
        "id": "DXBf2VsF-1qs"
      },
      "source": [
        "Pandas DataFrames have a sorting method, .sort_values() which takes a list of column names with which to sort. We demonstrate this in listing 16.3"
      ]
    },
    {
      "cell_type": "code",
      "execution_count": null,
      "metadata": {
        "colab": {
          "base_uri": "https://localhost:8080/",
          "height": 143
        },
        "id": "TCjuG4pcfWtr",
        "outputId": "453ef8f3-8b5c-461a-93bf-5e9295ac3d93"
      },
      "outputs": [
        {
          "output_type": "execute_result",
          "data": {
            "text/plain": [
              "  first      last  score\n",
              "0   Dan  Huerando      0\n",
              "1   Bob    Pousin    143\n",
              "2   Bob     Smith     99"
            ],
            "text/html": [
              "\n",
              "  <div id=\"df-6ac34758-ca43-4a87-b399-b3870e6054f7\">\n",
              "    <div class=\"colab-df-container\">\n",
              "      <div>\n",
              "<style scoped>\n",
              "    .dataframe tbody tr th:only-of-type {\n",
              "        vertical-align: middle;\n",
              "    }\n",
              "\n",
              "    .dataframe tbody tr th {\n",
              "        vertical-align: top;\n",
              "    }\n",
              "\n",
              "    .dataframe thead th {\n",
              "        text-align: right;\n",
              "    }\n",
              "</style>\n",
              "<table border=\"1\" class=\"dataframe\">\n",
              "  <thead>\n",
              "    <tr style=\"text-align: right;\">\n",
              "      <th></th>\n",
              "      <th>first</th>\n",
              "      <th>last</th>\n",
              "      <th>score</th>\n",
              "    </tr>\n",
              "  </thead>\n",
              "  <tbody>\n",
              "    <tr>\n",
              "      <th>0</th>\n",
              "      <td>Dan</td>\n",
              "      <td>Huerando</td>\n",
              "      <td>0</td>\n",
              "    </tr>\n",
              "    <tr>\n",
              "      <th>1</th>\n",
              "      <td>Bob</td>\n",
              "      <td>Pousin</td>\n",
              "      <td>143</td>\n",
              "    </tr>\n",
              "    <tr>\n",
              "      <th>2</th>\n",
              "      <td>Bob</td>\n",
              "      <td>Smith</td>\n",
              "      <td>99</td>\n",
              "    </tr>\n",
              "  </tbody>\n",
              "</table>\n",
              "</div>\n",
              "      <button class=\"colab-df-convert\" onclick=\"convertToInteractive('df-6ac34758-ca43-4a87-b399-b3870e6054f7')\"\n",
              "              title=\"Convert this dataframe to an interactive table.\"\n",
              "              style=\"display:none;\">\n",
              "        \n",
              "  <svg xmlns=\"http://www.w3.org/2000/svg\" height=\"24px\"viewBox=\"0 0 24 24\"\n",
              "       width=\"24px\">\n",
              "    <path d=\"M0 0h24v24H0V0z\" fill=\"none\"/>\n",
              "    <path d=\"M18.56 5.44l.94 2.06.94-2.06 2.06-.94-2.06-.94-.94-2.06-.94 2.06-2.06.94zm-11 1L8.5 8.5l.94-2.06 2.06-.94-2.06-.94L8.5 2.5l-.94 2.06-2.06.94zm10 10l.94 2.06.94-2.06 2.06-.94-2.06-.94-.94-2.06-.94 2.06-2.06.94z\"/><path d=\"M17.41 7.96l-1.37-1.37c-.4-.4-.92-.59-1.43-.59-.52 0-1.04.2-1.43.59L10.3 9.45l-7.72 7.72c-.78.78-.78 2.05 0 2.83L4 21.41c.39.39.9.59 1.41.59.51 0 1.02-.2 1.41-.59l7.78-7.78 2.81-2.81c.8-.78.8-2.07 0-2.86zM5.41 20L4 18.59l7.72-7.72 1.47 1.35L5.41 20z\"/>\n",
              "  </svg>\n",
              "      </button>\n",
              "      \n",
              "  <style>\n",
              "    .colab-df-container {\n",
              "      display:flex;\n",
              "      flex-wrap:wrap;\n",
              "      gap: 12px;\n",
              "    }\n",
              "\n",
              "    .colab-df-convert {\n",
              "      background-color: #E8F0FE;\n",
              "      border: none;\n",
              "      border-radius: 50%;\n",
              "      cursor: pointer;\n",
              "      display: none;\n",
              "      fill: #1967D2;\n",
              "      height: 32px;\n",
              "      padding: 0 0 0 0;\n",
              "      width: 32px;\n",
              "    }\n",
              "\n",
              "    .colab-df-convert:hover {\n",
              "      background-color: #E2EBFA;\n",
              "      box-shadow: 0px 1px 2px rgba(60, 64, 67, 0.3), 0px 1px 3px 1px rgba(60, 64, 67, 0.15);\n",
              "      fill: #174EA6;\n",
              "    }\n",
              "\n",
              "    [theme=dark] .colab-df-convert {\n",
              "      background-color: #3B4455;\n",
              "      fill: #D2E3FC;\n",
              "    }\n",
              "\n",
              "    [theme=dark] .colab-df-convert:hover {\n",
              "      background-color: #434B5C;\n",
              "      box-shadow: 0px 1px 3px 1px rgba(0, 0, 0, 0.15);\n",
              "      filter: drop-shadow(0px 1px 2px rgba(0, 0, 0, 0.3));\n",
              "      fill: #FFFFFF;\n",
              "    }\n",
              "  </style>\n",
              "\n",
              "      <script>\n",
              "        const buttonEl =\n",
              "          document.querySelector('#df-6ac34758-ca43-4a87-b399-b3870e6054f7 button.colab-df-convert');\n",
              "        buttonEl.style.display =\n",
              "          google.colab.kernel.accessAllowed ? 'block' : 'none';\n",
              "\n",
              "        async function convertToInteractive(key) {\n",
              "          const element = document.querySelector('#df-6ac34758-ca43-4a87-b399-b3870e6054f7');\n",
              "          const dataTable =\n",
              "            await google.colab.kernel.invokeFunction('convertToInteractive',\n",
              "                                                     [key], {});\n",
              "          if (!dataTable) return;\n",
              "\n",
              "          const docLinkHtml = 'Like what you see? Visit the ' +\n",
              "            '<a target=\"_blank\" href=https://colab.research.google.com/notebooks/data_table.ipynb>data table notebook</a>'\n",
              "            + ' to learn more about interactive tables.';\n",
              "          element.innerHTML = '';\n",
              "          dataTable['output_type'] = 'display_data';\n",
              "          await google.colab.output.renderOutput(dataTable, element);\n",
              "          const docLink = document.createElement('div');\n",
              "          docLink.innerHTML = docLinkHtml;\n",
              "          element.appendChild(docLink);\n",
              "        }\n",
              "      </script>\n",
              "    </div>\n",
              "  </div>\n",
              "  "
            ]
          },
          "metadata": {},
          "execution_count": 15
        }
      ],
      "source": [
        "import pandas as pd\n",
        "data = {'first': ['Dan', 'Bob', 'Bob'],\n",
        "        'last': ['Huerando', 'Pousin', 'Smith'],\n",
        "        'score': [0, 143, 99]}\n",
        "\n",
        "df = pd.DataFrame(data)\n",
        "df"
      ]
    },
    {
      "cell_type": "code",
      "execution_count": null,
      "metadata": {
        "colab": {
          "base_uri": "https://localhost:8080/",
          "height": 143
        },
        "id": "h9Uw75kvfxF_",
        "outputId": "e01a3df0-b627-4820-93fc-108649d1ddc2"
      },
      "outputs": [
        {
          "output_type": "execute_result",
          "data": {
            "text/plain": [
              "  first      last  score\n",
              "1   Bob    Pousin    143\n",
              "2   Bob     Smith     99\n",
              "0   Dan  Huerando      0"
            ],
            "text/html": [
              "\n",
              "  <div id=\"df-ea67d2cd-8cd0-44a9-82b4-30b2315173d8\">\n",
              "    <div class=\"colab-df-container\">\n",
              "      <div>\n",
              "<style scoped>\n",
              "    .dataframe tbody tr th:only-of-type {\n",
              "        vertical-align: middle;\n",
              "    }\n",
              "\n",
              "    .dataframe tbody tr th {\n",
              "        vertical-align: top;\n",
              "    }\n",
              "\n",
              "    .dataframe thead th {\n",
              "        text-align: right;\n",
              "    }\n",
              "</style>\n",
              "<table border=\"1\" class=\"dataframe\">\n",
              "  <thead>\n",
              "    <tr style=\"text-align: right;\">\n",
              "      <th></th>\n",
              "      <th>first</th>\n",
              "      <th>last</th>\n",
              "      <th>score</th>\n",
              "    </tr>\n",
              "  </thead>\n",
              "  <tbody>\n",
              "    <tr>\n",
              "      <th>1</th>\n",
              "      <td>Bob</td>\n",
              "      <td>Pousin</td>\n",
              "      <td>143</td>\n",
              "    </tr>\n",
              "    <tr>\n",
              "      <th>2</th>\n",
              "      <td>Bob</td>\n",
              "      <td>Smith</td>\n",
              "      <td>99</td>\n",
              "    </tr>\n",
              "    <tr>\n",
              "      <th>0</th>\n",
              "      <td>Dan</td>\n",
              "      <td>Huerando</td>\n",
              "      <td>0</td>\n",
              "    </tr>\n",
              "  </tbody>\n",
              "</table>\n",
              "</div>\n",
              "      <button class=\"colab-df-convert\" onclick=\"convertToInteractive('df-ea67d2cd-8cd0-44a9-82b4-30b2315173d8')\"\n",
              "              title=\"Convert this dataframe to an interactive table.\"\n",
              "              style=\"display:none;\">\n",
              "        \n",
              "  <svg xmlns=\"http://www.w3.org/2000/svg\" height=\"24px\"viewBox=\"0 0 24 24\"\n",
              "       width=\"24px\">\n",
              "    <path d=\"M0 0h24v24H0V0z\" fill=\"none\"/>\n",
              "    <path d=\"M18.56 5.44l.94 2.06.94-2.06 2.06-.94-2.06-.94-.94-2.06-.94 2.06-2.06.94zm-11 1L8.5 8.5l.94-2.06 2.06-.94-2.06-.94L8.5 2.5l-.94 2.06-2.06.94zm10 10l.94 2.06.94-2.06 2.06-.94-2.06-.94-.94-2.06-.94 2.06-2.06.94z\"/><path d=\"M17.41 7.96l-1.37-1.37c-.4-.4-.92-.59-1.43-.59-.52 0-1.04.2-1.43.59L10.3 9.45l-7.72 7.72c-.78.78-.78 2.05 0 2.83L4 21.41c.39.39.9.59 1.41.59.51 0 1.02-.2 1.41-.59l7.78-7.78 2.81-2.81c.8-.78.8-2.07 0-2.86zM5.41 20L4 18.59l7.72-7.72 1.47 1.35L5.41 20z\"/>\n",
              "  </svg>\n",
              "      </button>\n",
              "      \n",
              "  <style>\n",
              "    .colab-df-container {\n",
              "      display:flex;\n",
              "      flex-wrap:wrap;\n",
              "      gap: 12px;\n",
              "    }\n",
              "\n",
              "    .colab-df-convert {\n",
              "      background-color: #E8F0FE;\n",
              "      border: none;\n",
              "      border-radius: 50%;\n",
              "      cursor: pointer;\n",
              "      display: none;\n",
              "      fill: #1967D2;\n",
              "      height: 32px;\n",
              "      padding: 0 0 0 0;\n",
              "      width: 32px;\n",
              "    }\n",
              "\n",
              "    .colab-df-convert:hover {\n",
              "      background-color: #E2EBFA;\n",
              "      box-shadow: 0px 1px 2px rgba(60, 64, 67, 0.3), 0px 1px 3px 1px rgba(60, 64, 67, 0.15);\n",
              "      fill: #174EA6;\n",
              "    }\n",
              "\n",
              "    [theme=dark] .colab-df-convert {\n",
              "      background-color: #3B4455;\n",
              "      fill: #D2E3FC;\n",
              "    }\n",
              "\n",
              "    [theme=dark] .colab-df-convert:hover {\n",
              "      background-color: #434B5C;\n",
              "      box-shadow: 0px 1px 3px 1px rgba(0, 0, 0, 0.15);\n",
              "      filter: drop-shadow(0px 1px 2px rgba(0, 0, 0, 0.3));\n",
              "      fill: #FFFFFF;\n",
              "    }\n",
              "  </style>\n",
              "\n",
              "      <script>\n",
              "        const buttonEl =\n",
              "          document.querySelector('#df-ea67d2cd-8cd0-44a9-82b4-30b2315173d8 button.colab-df-convert');\n",
              "        buttonEl.style.display =\n",
              "          google.colab.kernel.accessAllowed ? 'block' : 'none';\n",
              "\n",
              "        async function convertToInteractive(key) {\n",
              "          const element = document.querySelector('#df-ea67d2cd-8cd0-44a9-82b4-30b2315173d8');\n",
              "          const dataTable =\n",
              "            await google.colab.kernel.invokeFunction('convertToInteractive',\n",
              "                                                     [key], {});\n",
              "          if (!dataTable) return;\n",
              "\n",
              "          const docLinkHtml = 'Like what you see? Visit the ' +\n",
              "            '<a target=\"_blank\" href=https://colab.research.google.com/notebooks/data_table.ipynb>data table notebook</a>'\n",
              "            + ' to learn more about interactive tables.';\n",
              "          element.innerHTML = '';\n",
              "          dataTable['output_type'] = 'display_data';\n",
              "          await google.colab.output.renderOutput(dataTable, element);\n",
              "          const docLink = document.createElement('div');\n",
              "          docLink.innerHTML = docLinkHtml;\n",
              "          element.appendChild(docLink);\n",
              "        }\n",
              "      </script>\n",
              "    </div>\n",
              "  </div>\n",
              "  "
            ]
          },
          "metadata": {},
          "execution_count": 16
        }
      ],
      "source": [
        "df.sort_values(by=['first','last'])"
      ]
    },
    {
      "cell_type": "markdown",
      "metadata": {
        "id": "IO4NWO6ndHQ0"
      },
      "source": [
        "## Reading and Writing Files\n",
        "\n",
        "We have already seen that Pandas can read various file formats directly into a DataFrame. There will be times you wish to read and write file data without using DataFrames. Python has a built-in function, open(), which, given a path, will return an open file object:"
      ]
    },
    {
      "cell_type": "code",
      "execution_count": null,
      "metadata": {
        "colab": {
          "base_uri": "https://localhost:8080/"
        },
        "id": "zCDX3eyPpRuO",
        "outputId": "d54598a3-ed67-475c-e2af-669363d30721"
      },
      "outputs": [
        {
          "output_type": "execute_result",
          "data": {
            "text/plain": [
              "<_io.TextIOWrapper name='/content/sample_data/README.md' mode='r' encoding='UTF-8'>"
            ]
          },
          "metadata": {},
          "execution_count": 18
        }
      ],
      "source": [
        "read_me = open('/content/sample_data/README.md')\n",
        "read_me"
      ]
    },
    {
      "cell_type": "markdown",
      "metadata": {
        "id": "R0JWYzXVBXK-"
      },
      "source": [
        "You can read a single line from the file object using the .readline() method:"
      ]
    },
    {
      "cell_type": "code",
      "execution_count": null,
      "metadata": {
        "colab": {
          "base_uri": "https://localhost:8080/",
          "height": 35
        },
        "id": "TpiwHd0gdY2E",
        "outputId": "61871221-53f8-4e8d-cb69-aaafeb59e5e6"
      },
      "outputs": [
        {
          "output_type": "execute_result",
          "data": {
            "text/plain": [
              "'This directory includes a few sample datasets to get you started.\\n'"
            ],
            "application/vnd.google.colaboratory.intrinsic+json": {
              "type": "string"
            }
          },
          "metadata": {},
          "execution_count": 19
        }
      ],
      "source": [
        "read_me.readline()"
      ]
    },
    {
      "cell_type": "markdown",
      "metadata": {
        "id": "d1uWTuRwBoO0"
      },
      "source": [
        "The file object keeps track of your place in the file. With each subsequent call to .readline(), the next line is returned as a string:"
      ]
    },
    {
      "cell_type": "code",
      "execution_count": null,
      "metadata": {
        "colab": {
          "base_uri": "https://localhost:8080/",
          "height": 35
        },
        "id": "lwuBr5bUBkpF",
        "outputId": "85214e37-24b6-421b-b2b1-7794e5ac3713"
      },
      "outputs": [
        {
          "output_type": "execute_result",
          "data": {
            "text/plain": [
              "'\\n'"
            ],
            "application/vnd.google.colaboratory.intrinsic+json": {
              "type": "string"
            }
          },
          "metadata": {},
          "execution_count": 20
        }
      ],
      "source": [
        "read_me.readline()"
      ]
    },
    {
      "cell_type": "code",
      "execution_count": null,
      "metadata": {
        "colab": {
          "base_uri": "https://localhost:8080/",
          "height": 35
        },
        "id": "3HXcOdzVB1w0",
        "outputId": "72d05abf-afdd-47c2-abf8-e03d2489bfca"
      },
      "outputs": [
        {
          "output_type": "execute_result",
          "data": {
            "text/plain": [
              "'*   `california_housing_data*.csv` is California housing data from the 1990 US\\n'"
            ],
            "application/vnd.google.colaboratory.intrinsic+json": {
              "type": "string"
            }
          },
          "metadata": {},
          "execution_count": 21
        }
      ],
      "source": [
        "read_me.readline()"
      ]
    },
    {
      "cell_type": "markdown",
      "metadata": {
        "id": "snGU8IGLB9WR"
      },
      "source": [
        "It is important to close your connection to the file when you are done, or it may interfere with the ability to open the file again. This is done with the close() function:"
      ]
    },
    {
      "cell_type": "code",
      "execution_count": null,
      "metadata": {
        "id": "d2ee0UejdeFy"
      },
      "outputs": [],
      "source": [
        "read_me.close()"
      ]
    },
    {
      "cell_type": "markdown",
      "metadata": {
        "id": "4XTtsHZGE5-u"
      },
      "source": [
        "The context manager compound statement is a way to automatically close files. These start with the keyword with, and close the file when it exits it's local state. Below we open a file using a context manager, then read it using the readlines() method. Once the context is exited, the file contents have been read to the variable data, and the file object is closed:"
      ]
    },
    {
      "cell_type": "code",
      "execution_count": null,
      "metadata": {
        "id": "0dsZNo-zdhtK"
      },
      "outputs": [],
      "source": [
        "with open('/content/sample_data/README.md') as open_file:\n",
        "    data = open_file.readlines()"
      ]
    },
    {
      "cell_type": "code",
      "execution_count": null,
      "metadata": {
        "colab": {
          "base_uri": "https://localhost:8080/",
          "height": 35
        },
        "id": "iS3AywuGdyJM",
        "outputId": "189c2de4-3823-44f7-86fc-11222298ec01"
      },
      "outputs": [
        {
          "output_type": "execute_result",
          "data": {
            "text/plain": [
              "'This directory includes a few sample datasets to get you started.\\n'"
            ],
            "application/vnd.google.colaboratory.intrinsic+json": {
              "type": "string"
            }
          },
          "metadata": {},
          "execution_count": 24
        }
      ],
      "source": [
        "data[0]"
      ]
    },
    {
      "cell_type": "markdown",
      "metadata": {
        "id": "5PkBrb6EGcPY"
      },
      "source": [
        "The default when opening a file is that it will be read. You can specify other states, such as read binary, 'rb', write, 'w', and write binary 'wb'. Below we use the 'w' argument to write a new file:"
      ]
    },
    {
      "cell_type": "code",
      "execution_count": null,
      "metadata": {
        "id": "cvrUfFySd08g"
      },
      "outputs": [],
      "source": [
        "text = 'My intriguing story'\n",
        "\n",
        "with open('/content/my_new_file.txt', 'w') as open_file:\n",
        "    open_file.write(text)\n"
      ]
    },
    {
      "cell_type": "markdown",
      "metadata": {
        "id": "_4GJjDKDG5-t"
      },
      "source": [
        "We can check that the file is indeed created:"
      ]
    },
    {
      "cell_type": "code",
      "execution_count": null,
      "metadata": {
        "colab": {
          "base_uri": "https://localhost:8080/"
        },
        "id": "BXhKj1UheWX1",
        "outputId": "ea536501-1df3-49c6-8a5e-46a29dad276e"
      },
      "outputs": [
        {
          "output_type": "stream",
          "name": "stdout",
          "text": [
            "my_new_file.txt  sample_data\n"
          ]
        }
      ],
      "source": [
        "!ls /content/"
      ]
    },
    {
      "cell_type": "markdown",
      "metadata": {
        "id": "tHfYaTkqHJNJ"
      },
      "source": [
        "Json is a common format for tramsmitting and storing data. The Python standard library includes a module for translating to and from json. This module can translate between json strings and Python types, below we open a json file:"
      ]
    },
    {
      "cell_type": "code",
      "execution_count": null,
      "metadata": {
        "colab": {
          "base_uri": "https://localhost:8080/"
        },
        "id": "LTR6lc5KeY9l",
        "outputId": "1116530d-9b6f-4eeb-dc72-8fbee70a88b5"
      },
      "outputs": [
        {
          "output_type": "execute_result",
          "data": {
            "text/plain": [
              "[{'Series': 'I', 'X': 10.0, 'Y': 8.04},\n",
              " {'Series': 'I', 'X': 8.0, 'Y': 6.95},\n",
              " {'Series': 'I', 'X': 13.0, 'Y': 7.58},\n",
              " {'Series': 'I', 'X': 9.0, 'Y': 8.81},\n",
              " {'Series': 'I', 'X': 11.0, 'Y': 8.33},\n",
              " {'Series': 'I', 'X': 14.0, 'Y': 9.96},\n",
              " {'Series': 'I', 'X': 6.0, 'Y': 7.24},\n",
              " {'Series': 'I', 'X': 4.0, 'Y': 4.26},\n",
              " {'Series': 'I', 'X': 12.0, 'Y': 10.84},\n",
              " {'Series': 'I', 'X': 7.0, 'Y': 4.81},\n",
              " {'Series': 'I', 'X': 5.0, 'Y': 5.68},\n",
              " {'Series': 'II', 'X': 10.0, 'Y': 9.14},\n",
              " {'Series': 'II', 'X': 8.0, 'Y': 8.14},\n",
              " {'Series': 'II', 'X': 13.0, 'Y': 8.74},\n",
              " {'Series': 'II', 'X': 9.0, 'Y': 8.77},\n",
              " {'Series': 'II', 'X': 11.0, 'Y': 9.26},\n",
              " {'Series': 'II', 'X': 14.0, 'Y': 8.1},\n",
              " {'Series': 'II', 'X': 6.0, 'Y': 6.13},\n",
              " {'Series': 'II', 'X': 4.0, 'Y': 3.1},\n",
              " {'Series': 'II', 'X': 12.0, 'Y': 9.13},\n",
              " {'Series': 'II', 'X': 7.0, 'Y': 7.26},\n",
              " {'Series': 'II', 'X': 5.0, 'Y': 4.74},\n",
              " {'Series': 'III', 'X': 10.0, 'Y': 7.46},\n",
              " {'Series': 'III', 'X': 8.0, 'Y': 6.77},\n",
              " {'Series': 'III', 'X': 13.0, 'Y': 12.74},\n",
              " {'Series': 'III', 'X': 9.0, 'Y': 7.11},\n",
              " {'Series': 'III', 'X': 11.0, 'Y': 7.81},\n",
              " {'Series': 'III', 'X': 14.0, 'Y': 8.84},\n",
              " {'Series': 'III', 'X': 6.0, 'Y': 6.08},\n",
              " {'Series': 'III', 'X': 4.0, 'Y': 5.39},\n",
              " {'Series': 'III', 'X': 12.0, 'Y': 8.15},\n",
              " {'Series': 'III', 'X': 7.0, 'Y': 6.42},\n",
              " {'Series': 'III', 'X': 5.0, 'Y': 5.73},\n",
              " {'Series': 'IV', 'X': 8.0, 'Y': 6.58},\n",
              " {'Series': 'IV', 'X': 8.0, 'Y': 5.76},\n",
              " {'Series': 'IV', 'X': 8.0, 'Y': 7.71},\n",
              " {'Series': 'IV', 'X': 8.0, 'Y': 8.84},\n",
              " {'Series': 'IV', 'X': 8.0, 'Y': 8.47},\n",
              " {'Series': 'IV', 'X': 8.0, 'Y': 7.04},\n",
              " {'Series': 'IV', 'X': 8.0, 'Y': 5.25},\n",
              " {'Series': 'IV', 'X': 19.0, 'Y': 12.5},\n",
              " {'Series': 'IV', 'X': 8.0, 'Y': 5.56},\n",
              " {'Series': 'IV', 'X': 8.0, 'Y': 7.91},\n",
              " {'Series': 'IV', 'X': 8.0, 'Y': 6.89}]"
            ]
          },
          "metadata": {},
          "execution_count": 30
        }
      ],
      "source": [
        "import json\n",
        "\n",
        "with open('/content/sample_data/anscombe.json') as open_file:\n",
        "    data = json.load(open_file)\n",
        "\n",
        "data"
      ]
    },
    {
      "cell_type": "markdown",
      "metadata": {
        "id": "gNfvORrEgI22"
      },
      "source": [
        "## Datetimes\n",
        "\n",
        "Data that models values over time, called time series data, are commonly used in Data Science. In order to use this kind of data, we need a way to represent time. One common way is to use strings. If we need more functionality, such as easily adding and subtracting, or easily pulling out values for year month and day, we need something more sofisticated. The DateTime library offers varius ways to model time along with useful functionality for time value manipulation. The datatime.datetime() class represents a moment of time down to the microsecond. In listing 16.... we demonstrate creating a datetime object and accessing some of it's values. "
      ]
    },
    {
      "cell_type": "code",
      "execution_count": null,
      "metadata": {
        "colab": {
          "base_uri": "https://localhost:8080/"
        },
        "id": "WZbEHLJKewVt",
        "outputId": "7a833089-1a4c-4496-b037-94864b6a6484"
      },
      "outputs": [
        {
          "output_type": "execute_result",
          "data": {
            "text/plain": [
              "datetime.datetime(2022, 10, 1, 13, 59, 33, 10000)"
            ]
          },
          "metadata": {},
          "execution_count": 31
        }
      ],
      "source": [
        "from datetime import datetime\n",
        "\n",
        "dt = datetime(2022, 10, 1, 13, 59, 33, 10000)\n",
        "dt"
      ]
    },
    {
      "cell_type": "code",
      "execution_count": null,
      "metadata": {
        "colab": {
          "base_uri": "https://localhost:8080/"
        },
        "id": "UjdGfgBIgW6U",
        "outputId": "22e6a13f-8323-4c61-b5f8-1b588c8a1f86"
      },
      "outputs": [
        {
          "output_type": "execute_result",
          "data": {
            "text/plain": [
              "2022"
            ]
          },
          "metadata": {},
          "execution_count": 32
        }
      ],
      "source": [
        "dt.year"
      ]
    },
    {
      "cell_type": "code",
      "execution_count": null,
      "metadata": {
        "colab": {
          "base_uri": "https://localhost:8080/"
        },
        "id": "JDVWm3SrgYpU",
        "outputId": "68ea06c2-a742-4bf9-fe96-59110fa25c63"
      },
      "outputs": [
        {
          "output_type": "execute_result",
          "data": {
            "text/plain": [
              "10"
            ]
          },
          "metadata": {},
          "execution_count": 33
        }
      ],
      "source": [
        "dt.month"
      ]
    },
    {
      "cell_type": "code",
      "execution_count": null,
      "metadata": {
        "colab": {
          "base_uri": "https://localhost:8080/"
        },
        "id": "tCu_dPzIgZyx",
        "outputId": "0dcee058-5746-4ccc-b630-a72907771893"
      },
      "outputs": [
        {
          "output_type": "execute_result",
          "data": {
            "text/plain": [
              "1"
            ]
          },
          "metadata": {},
          "execution_count": 34
        }
      ],
      "source": [
        "dt.day"
      ]
    },
    {
      "cell_type": "code",
      "execution_count": null,
      "metadata": {
        "colab": {
          "base_uri": "https://localhost:8080/"
        },
        "id": "0iH5EHXjia1Y",
        "outputId": "393f5916-75a3-43b2-d2d7-84c427fd925d"
      },
      "outputs": [
        {
          "output_type": "execute_result",
          "data": {
            "text/plain": [
              "13"
            ]
          },
          "metadata": {},
          "execution_count": 35
        }
      ],
      "source": [
        "dt.hour"
      ]
    },
    {
      "cell_type": "code",
      "execution_count": null,
      "metadata": {
        "colab": {
          "base_uri": "https://localhost:8080/"
        },
        "id": "AjdrxvH2iXVh",
        "outputId": "fa323bbd-5786-4771-b2da-ed1f7ebc01df"
      },
      "outputs": [
        {
          "output_type": "execute_result",
          "data": {
            "text/plain": [
              "59"
            ]
          },
          "metadata": {},
          "execution_count": 36
        }
      ],
      "source": [
        "dt.minute"
      ]
    },
    {
      "cell_type": "code",
      "execution_count": null,
      "metadata": {
        "colab": {
          "base_uri": "https://localhost:8080/"
        },
        "id": "OPQQeWAThcYh",
        "outputId": "47f18c76-d875-4d4d-a86d-b24b06a3d6c0"
      },
      "outputs": [
        {
          "output_type": "execute_result",
          "data": {
            "text/plain": [
              "33"
            ]
          },
          "metadata": {},
          "execution_count": 37
        }
      ],
      "source": [
        "dt.second"
      ]
    },
    {
      "cell_type": "code",
      "execution_count": null,
      "metadata": {
        "colab": {
          "base_uri": "https://localhost:8080/"
        },
        "id": "j5Bon7-FhdpC",
        "outputId": "7dcfe623-6c2e-4798-b5ee-5aa3cec086cd"
      },
      "outputs": [
        {
          "output_type": "execute_result",
          "data": {
            "text/plain": [
              "10000"
            ]
          },
          "metadata": {},
          "execution_count": 38
        }
      ],
      "source": [
        "dt.microsecond"
      ]
    },
    {
      "cell_type": "markdown",
      "metadata": {
        "id": "_dGEli2vENmS"
      },
      "source": [
        "We can get an object for the current time using the datetime.now() function:"
      ]
    },
    {
      "cell_type": "code",
      "execution_count": null,
      "metadata": {
        "colab": {
          "base_uri": "https://localhost:8080/"
        },
        "id": "JoOwDpXGga4j",
        "outputId": "f762a3e4-958e-419a-d759-2c56cf209854"
      },
      "outputs": [
        {
          "output_type": "execute_result",
          "data": {
            "text/plain": [
              "datetime.datetime(2022, 4, 2, 19, 35, 54, 256685)"
            ]
          },
          "metadata": {},
          "execution_count": 39
        }
      ],
      "source": [
        "dt = datetime.now()\n",
        "dt"
      ]
    },
    {
      "cell_type": "markdown",
      "metadata": {
        "id": "jBojZNuXin7I"
      },
      "source": [
        "We can translate strings to datetime objects and datetime objects to string using the datetime.strptime and datetime.strftime functions. Both rely on format codes which define how the string should be processed. These format codes are defined here:\n",
        "https://docs.python.org/3/library/datetime.html#strftime-strptime-behavior\n",
        "In listing 16... we use the format code %Y for a four digit year, %m for a two digit month and %d for a two digit day to create a datetime from a string. We then use the %y, which represents a two digit year, to create a new string version."
      ]
    },
    {
      "cell_type": "code",
      "execution_count": null,
      "metadata": {
        "colab": {
          "base_uri": "https://localhost:8080/"
        },
        "id": "xjOxqCw3gmS1",
        "outputId": "ed83cf05-f6b6-4d03-ee0d-8e819efb0942"
      },
      "outputs": [
        {
          "output_type": "execute_result",
          "data": {
            "text/plain": [
              "datetime.datetime(1968, 6, 20, 0, 0)"
            ]
          },
          "metadata": {},
          "execution_count": 40
        }
      ],
      "source": [
        "dt = datetime.strptime('1968-06-20', '%Y-%m-%d')\n",
        "\n",
        "dt"
      ]
    },
    {
      "cell_type": "code",
      "execution_count": null,
      "metadata": {
        "colab": {
          "base_uri": "https://localhost:8080/",
          "height": 35
        },
        "id": "eyib_kz7EvzQ",
        "outputId": "b5c6265a-f94d-4d31-b7d2-3932613aaf33"
      },
      "outputs": [
        {
          "output_type": "execute_result",
          "data": {
            "text/plain": [
              "'06/20/68'"
            ],
            "application/vnd.google.colaboratory.intrinsic+json": {
              "type": "string"
            }
          },
          "metadata": {},
          "execution_count": 41
        }
      ],
      "source": [
        "dt.strftime('%m/%d/%y')"
      ]
    },
    {
      "cell_type": "code",
      "execution_count": null,
      "metadata": {
        "colab": {
          "base_uri": "https://localhost:8080/"
        },
        "id": "P5hLZN31gwdG",
        "outputId": "f6047723-6862-47a2-e32e-28f6a154db66"
      },
      "outputs": [
        {
          "output_type": "execute_result",
          "data": {
            "text/plain": [
              "datetime.datetime(1968, 6, 17, 0, 0)"
            ]
          },
          "metadata": {},
          "execution_count": 42
        }
      ],
      "source": [
        "from datetime import timedelta\n",
        "\n",
        "delta = timedelta(days=3)\n",
        "\n",
        "dt - delta"
      ]
    },
    {
      "cell_type": "markdown",
      "metadata": {
        "id": "ysHWaFvgj90s"
      },
      "source": [
        "Python 3.9 introduced a new package for setting time zones. With this package it is easy to set the timezone of a datetime:"
      ]
    },
    {
      "cell_type": "code",
      "execution_count": null,
      "metadata": {
        "id": "qUQNO9Iaj6Ez"
      },
      "outputs": [],
      "source": [
        "from zoneinfo import ZoneInfo\n",
        "\n",
        "dt = datetime(2032, 10, 14, 23, tzinfo=ZoneInfo(\"America/Jujuy\"))\n",
        "dt.tzname()"
      ]
    },
    {
      "cell_type": "markdown",
      "metadata": {
        "id": "zMGGbDsjmCx0"
      },
      "source": [
        "The datetime library also includes a datetime.date class. This class is similar to a datetime.datetime except that it does not track the time of day:"
      ]
    },
    {
      "cell_type": "code",
      "execution_count": null,
      "metadata": {
        "colab": {
          "base_uri": "https://localhost:8080/"
        },
        "id": "jWmzTiyoi4pJ",
        "outputId": "8070dc6e-b713-41cf-a41f-1006a3ade1c5"
      },
      "outputs": [
        {
          "output_type": "execute_result",
          "data": {
            "text/plain": [
              "datetime.date(2022, 4, 2)"
            ]
          },
          "metadata": {},
          "execution_count": 44
        }
      ],
      "source": [
        "from datetime import date\n",
        "\n",
        "date.today()"
      ]
    },
    {
      "cell_type": "markdown",
      "metadata": {
        "id": "ot0CfAhJkxN_"
      },
      "source": [
        "## Regular Expressions\n",
        "\n",
        "The last package we will cover in this chapter is the regex Library, re. Regular expressions are a sofisticated language for searching within text. We define a search pattern as a string, and then use it to search our target text. At the simplest level, our search pattern can be the exact text we wish to match. Below we define a text containing ship captains and their associated emails. We then search this text using the re.match() function, which returns a match object: "
      ]
    },
    {
      "cell_type": "code",
      "execution_count": null,
      "metadata": {
        "colab": {
          "base_uri": "https://localhost:8080/"
        },
        "id": "BVmNbhWwjJYb",
        "outputId": "3da88863-2fc7-4cc1-abb4-a1383f7825af"
      },
      "outputs": [
        {
          "output_type": "execute_result",
          "data": {
            "text/plain": [
              "<re.Match object; span=(0, 5), match='Ahab:'>"
            ]
          },
          "metadata": {},
          "execution_count": 46
        }
      ],
      "source": [
        "captains = '''Ahab: ahab@pequod.com\n",
        "Peleg: peleg@pequod.com\n",
        "Ishmael: ishmael@pequod.com\n",
        "Herman: herman@acushnet.io\n",
        "Pollard: pollard@essex.me\n",
        "'''\n",
        "\n",
        "import re\n",
        "re.match(\"Ahab:\", captains )"
      ]
    },
    {
      "cell_type": "markdown",
      "metadata": {
        "id": "UOg0RV5EoOHO"
      },
      "source": [
        "We can use the result of this match with an if statement, whose code block will only execute if the text is matched. "
      ]
    },
    {
      "cell_type": "code",
      "execution_count": null,
      "metadata": {
        "colab": {
          "base_uri": "https://localhost:8080/"
        },
        "id": "8vgSj-holj1L",
        "outputId": "dbb349c1-47a4-4e72-96a6-f50cb2c0f57d"
      },
      "outputs": [
        {
          "output_type": "stream",
          "name": "stdout",
          "text": [
            "We found Ahab\n"
          ]
        }
      ],
      "source": [
        "if re.match(\"Ahab:\", captains ):\n",
        "  print(\"We found Ahab\")"
      ]
    },
    {
      "cell_type": "markdown",
      "metadata": {
        "id": "B4LpiEsLos-T"
      },
      "source": [
        "The re.match() function matches from the begining of the string. If we try to match a sub-string later in the source string, it will not match:"
      ]
    },
    {
      "cell_type": "code",
      "execution_count": null,
      "metadata": {
        "colab": {
          "base_uri": "https://localhost:8080/"
        },
        "id": "XJscNIvYlyCW",
        "outputId": "d7f35c87-515f-4759-814e-6173c0c1982b"
      },
      "outputs": [
        {
          "output_type": "stream",
          "name": "stdout",
          "text": [
            "No Peleg found!\n"
          ]
        }
      ],
      "source": [
        "if re.match(\"Peleg\", captains):\n",
        "  print(\"We found Peleg\")\n",
        "else:\n",
        "  print(\"No Peleg found!\")"
      ]
    },
    {
      "cell_type": "markdown",
      "metadata": {
        "id": "CYZp9LWBo8UC"
      },
      "source": [
        "If you wish to match any substring contained within a text, use the re.search() function instead:"
      ]
    },
    {
      "cell_type": "code",
      "execution_count": null,
      "metadata": {
        "colab": {
          "base_uri": "https://localhost:8080/"
        },
        "id": "b0c6tdd4l0-y",
        "outputId": "b29c520f-ad14-41f0-c354-91de5764077b"
      },
      "outputs": [
        {
          "output_type": "execute_result",
          "data": {
            "text/plain": [
              "<re.Match object; span=(22, 27), match='Peleg'>"
            ]
          },
          "metadata": {},
          "execution_count": 49
        }
      ],
      "source": [
        "re.search(\"Peleg\", captains)"
      ]
    },
    {
      "cell_type": "markdown",
      "metadata": {
        "id": "bTYXWnrA8Pmm"
      },
      "source": [
        "### Character sets\n",
        "\n",
        "Character sets are a syntax for defining more generalized matches. The syntax for character sets is some group of characters enclosed in square brackets. So to search for the first occurance of either zero or one, we could use the character set:\n",
        "`\"[01]\"`. Or to search for the first occurance of a vowel followed by a punctuation mark: `\"[aeiou][!,?.;]\"`. We can indicate a range of character in a character set by using a dash. For any digit we would use `\"[0-0]\"`, for any capital letter, `\"[A-Z]\"`, or for any lowercase letter, `\"[a-z]\"`. If we follow a character set by a +, it will match one or more instances. If we follow the character set by a number in curly brackets, it will match that exact number of occurances in a row. We demonstrate these in listing 16....\n"
      ]
    },
    {
      "cell_type": "code",
      "execution_count": null,
      "metadata": {
        "colab": {
          "base_uri": "https://localhost:8080/"
        },
        "id": "B_6jUNjJv5ag",
        "outputId": "d1ff9515-7778-43df-8984-eed1948409a3"
      },
      "outputs": [
        {
          "output_type": "execute_result",
          "data": {
            "text/plain": [
              "<re.Match object; span=(0, 2), match='Ah'>"
            ]
          },
          "metadata": {},
          "execution_count": 50
        }
      ],
      "source": [
        "re.search(\"[A-Z][a-z]\", captains)"
      ]
    },
    {
      "cell_type": "code",
      "execution_count": null,
      "metadata": {
        "colab": {
          "base_uri": "https://localhost:8080/"
        },
        "id": "dSSKISq-wYRl",
        "outputId": "a60d3995-b7c2-4b18-faab-71571c11ffa7"
      },
      "outputs": [
        {
          "output_type": "execute_result",
          "data": {
            "text/plain": [
              "<re.Match object; span=(0, 4), match='Ahab'>"
            ]
          },
          "metadata": {},
          "execution_count": 51
        }
      ],
      "source": [
        "re.search(\"[A-Za-z]+\", captains)"
      ]
    },
    {
      "cell_type": "code",
      "execution_count": null,
      "metadata": {
        "colab": {
          "base_uri": "https://localhost:8080/"
        },
        "id": "FhhPHQ5Jxk39",
        "outputId": "80b81567-346e-4662-df41-d0eecfa7e881"
      },
      "outputs": [
        {
          "output_type": "execute_result",
          "data": {
            "text/plain": [
              "<re.Match object; span=(46, 53), match='Ishmael'>"
            ]
          },
          "metadata": {},
          "execution_count": 52
        }
      ],
      "source": [
        "re.search(\"[A-Za-z]{7}\", captains)"
      ]
    },
    {
      "cell_type": "code",
      "execution_count": null,
      "metadata": {
        "colab": {
          "base_uri": "https://localhost:8080/"
        },
        "id": "eDaf0SlRxuFG",
        "outputId": "f2f6975a-7e19-4b1e-a274-65d64f6e728e"
      },
      "outputs": [
        {
          "output_type": "execute_result",
          "data": {
            "text/plain": [
              "<re.Match object; span=(6, 21), match='ahab@pequod.com'>"
            ]
          },
          "metadata": {},
          "execution_count": 53
        }
      ],
      "source": [
        "re.search(\"[a-z]+\\@[a-z]+\\.[a-z]+\", captains)"
      ]
    },
    {
      "cell_type": "markdown",
      "metadata": {
        "id": "0C8PElOBOdMj"
      },
      "source": [
        "### Character classes\n",
        "\n",
        "Character classes are predefined groups of characters supplied for easier matching. You can see the whole list of characet classes  in the re documentation, but some common ones are `\\d` for digital characters, `\\s` for whitespace characters, and `\\w` for word characters. Word characters generally match any characters that are commonly used in words as well as numeric digits and underscores. \n",
        "\n",
        "To search for the first occurance of a digit surrounded by word characters, we could use `\"\\w\\d\\w\"`:"
      ]
    },
    {
      "cell_type": "code",
      "execution_count": null,
      "metadata": {
        "colab": {
          "base_uri": "https://localhost:8080/"
        },
        "id": "smG0jFf7yZP3",
        "outputId": "c76a5071-772e-47c0-e349-29c19ae55913"
      },
      "outputs": [
        {
          "output_type": "execute_result",
          "data": {
            "text/plain": [
              "<re.Match object; span=(15, 18), match='Y2K'>"
            ]
          },
          "metadata": {},
          "execution_count": 54
        }
      ],
      "source": [
        "re.search(\"\\w\\d\\w\", \"His panic over Y2K was overwhelming.\")"
      ]
    },
    {
      "cell_type": "markdown",
      "metadata": {
        "id": "StSjL8C2uQ9s"
      },
      "source": [
        "We can use the plus and curly brackets to indicate multple consequetive occurances of a character class in the same way we did with character sets:"
      ]
    },
    {
      "cell_type": "code",
      "execution_count": null,
      "metadata": {
        "colab": {
          "base_uri": "https://localhost:8080/"
        },
        "id": "luiPoUdvz0L3",
        "outputId": "169ea0c8-b458-4b60-eba8-d1465f9e3718"
      },
      "outputs": [
        {
          "output_type": "execute_result",
          "data": {
            "text/plain": [
              "<re.Match object; span=(6, 21), match='ahab@pequod.com'>"
            ]
          },
          "metadata": {},
          "execution_count": 55
        }
      ],
      "source": [
        "re.search(\"\\w+\\@\\w+\\.\\w+\", captains)"
      ]
    },
    {
      "cell_type": "markdown",
      "metadata": {
        "id": "y3254qWYOwuC"
      },
      "source": [
        "### Groups\n",
        "\n",
        "If we enclose parts of our regular expression pattern in parenthesis, they become groups. We can access groups on our match object using the group method. Each group is numbers, with group 0 being the whole match:"
      ]
    },
    {
      "cell_type": "code",
      "execution_count": null,
      "metadata": {
        "colab": {
          "base_uri": "https://localhost:8080/"
        },
        "id": "p39e1ttIMeS8",
        "outputId": "b6e73d56-744c-40b5-ce36-9bee837d39ee"
      },
      "outputs": [
        {
          "output_type": "stream",
          "name": "stdout",
          "text": [
            "\n",
            "Group 0 is ahab@pequod.com\n",
            "Group 1 is ahab\n",
            "Group 2 is pequod\n",
            "Group 3 is com\n",
            "\n"
          ]
        }
      ],
      "source": [
        "m = re.search(\"(\\w+)\\@(\\w+)\\.(\\w+)\", captains)\n",
        "print(f'''\n",
        "Group 0 is {m.group(0)}\n",
        "Group 1 is {m.group(1)}\n",
        "Group 2 is {m.group(2)}\n",
        "Group 3 is {m.group(3)}\n",
        "''')"
      ]
    },
    {
      "cell_type": "markdown",
      "metadata": {
        "id": "lEb8YhQLNbZW"
      },
      "source": [
        "### Named Groups\n",
        "\n",
        "It is often useful to refer to groups by names rather than numbers. The syntax for defining a named group is:\n",
        "\n",
        "`(?P<GROUP_NAME>PATTERN)`\n",
        "\n",
        "We can then get groups using the group names instead of numbers:"
      ]
    },
    {
      "cell_type": "code",
      "execution_count": null,
      "metadata": {
        "colab": {
          "base_uri": "https://localhost:8080/"
        },
        "id": "xo1J3jh5NikC",
        "outputId": "9ab440c3-e8b2-49ad-bc04-0d47c4c3e0bd"
      },
      "outputs": [
        {
          "output_type": "stream",
          "name": "stdout",
          "text": [
            "\n",
            "Email address: ahab@pequod.com\n",
            "Name:  ahab\n",
            "Secondary level domain: pequod\n",
            "Top level Domain: com\n",
            "\n"
          ]
        }
      ],
      "source": [
        "m = re.search(\"(?P<name>\\w+)\\@(?P<SLD>\\w+)\\.(?P<TLD>\\w+)\", captains)\n",
        "\n",
        "print(f'''\n",
        "Email address: {m.group()}\n",
        "Name:  {m.group(\"name\")}\n",
        "Secondary level domain: {m.group(\"SLD\")}\n",
        "Top level Domain: {m.group(\"TLD\")}\n",
        "''')"
      ]
    },
    {
      "cell_type": "markdown",
      "metadata": {
        "id": "F1DlR7T1Gcey"
      },
      "source": [
        "### Find all\n",
        "\n",
        "Until now we have only found the first occurance of a match. We can use the re.findall() function to match all occurances. This function returns each match as a string:"
      ]
    },
    {
      "cell_type": "code",
      "execution_count": null,
      "metadata": {
        "colab": {
          "base_uri": "https://localhost:8080/"
        },
        "id": "PgyBLYJGQ6Xs",
        "outputId": "f634871b-902d-4f7b-8c76-f2876bbcbbab"
      },
      "outputs": [
        {
          "output_type": "execute_result",
          "data": {
            "text/plain": [
              "['ahab@pequod.com',\n",
              " 'peleg@pequod.com',\n",
              " 'ishmael@pequod.com',\n",
              " 'herman@acushnet.io',\n",
              " 'pollard@essex.me']"
            ]
          },
          "metadata": {},
          "execution_count": 58
        }
      ],
      "source": [
        "m = re.findall(\"\\w+\\@\\w+\\.\\w+\", captains)\n",
        "m"
      ]
    },
    {
      "cell_type": "markdown",
      "metadata": {
        "id": "HzdGOcK22TUY"
      },
      "source": [
        "If we have defined groups, it will return each match as a tuple of strings, with each string beging the match for a group:"
      ]
    },
    {
      "cell_type": "code",
      "execution_count": null,
      "metadata": {
        "colab": {
          "base_uri": "https://localhost:8080/"
        },
        "id": "Eelot47DRPsn",
        "outputId": "b86e6c49-34a1-4dba-ee27-6c09b93082de"
      },
      "outputs": [
        {
          "output_type": "execute_result",
          "data": {
            "text/plain": [
              "[('ahab', 'pequod', 'com'),\n",
              " ('peleg', 'pequod', 'com'),\n",
              " ('ishmael', 'pequod', 'com'),\n",
              " ('herman', 'acushnet', 'io'),\n",
              " ('pollard', 'essex', 'me')]"
            ]
          },
          "metadata": {},
          "execution_count": 59
        }
      ],
      "source": [
        "re.findall(\"(?P<name>\\w+)\\@(?P<SLD>\\w+)\\.(?P<TLD>\\w+)\", captains)\n"
      ]
    },
    {
      "cell_type": "markdown",
      "metadata": {
        "id": "LpOhULj4TI0t"
      },
      "source": [
        "### Find Iterator\n",
        "If we are serching for all matches in a large text, we can use re.finditer(). This function returns an iterator, which returns each subsequent match with each iteration:"
      ]
    },
    {
      "cell_type": "code",
      "execution_count": null,
      "metadata": {
        "colab": {
          "base_uri": "https://localhost:8080/"
        },
        "id": "tkDVletnTLg-",
        "outputId": "e74a1712-d6c0-4f23-8114-b489666b529b"
      },
      "outputs": [
        {
          "output_type": "stream",
          "name": "stdout",
          "text": [
            "An <class 'callable_iterator'> object is returned by finditer\n"
          ]
        }
      ],
      "source": [
        "iterator = re.finditer(\"\\w+\\@\\w+\\.\\w+\", captains)\n",
        "\n",
        "print(f\"An {type(iterator)} object is returned by finditer\" )"
      ]
    },
    {
      "cell_type": "code",
      "execution_count": null,
      "metadata": {
        "colab": {
          "base_uri": "https://localhost:8080/",
          "height": 35
        },
        "id": "p-zGBxlSULj2",
        "outputId": "f7dfcadc-5f41-455d-a1a1-506ec1747136"
      },
      "outputs": [
        {
          "output_type": "execute_result",
          "data": {
            "text/plain": [
              "'The first match, peleg@pequod.com is processed without processing the rest of the text'"
            ],
            "application/vnd.google.colaboratory.intrinsic+json": {
              "type": "string"
            }
          },
          "metadata": {},
          "execution_count": 63
        }
      ],
      "source": [
        "m = next(iterator)\n",
        "f\"The first match, {m.group()} is processed without processing the rest of the text\""
      ]
    },
    {
      "cell_type": "markdown",
      "metadata": {
        "id": "OYGSIg4xIUq8"
      },
      "source": [
        "### Substitution\n",
        "\n",
        "Regular expression can be used for substitution as well as matching. The re.sub() function takes a match pattern, a replacement string, and a source text:"
      ]
    },
    {
      "cell_type": "code",
      "execution_count": null,
      "metadata": {
        "colab": {
          "base_uri": "https://localhost:8080/",
          "height": 35
        },
        "id": "RRhdr24LJ863",
        "outputId": "4a3772b7-20fe-4bf7-9c23-0cb2a4651733"
      },
      "outputs": [
        {
          "output_type": "execute_result",
          "data": {
            "text/plain": [
              "'Your secrect pin is #####'"
            ],
            "application/vnd.google.colaboratory.intrinsic+json": {
              "type": "string"
            }
          },
          "metadata": {},
          "execution_count": 64
        }
      ],
      "source": [
        "re.sub(\"\\d\", \"#\", \"Your secrect pin is 12345\")"
      ]
    },
    {
      "cell_type": "markdown",
      "metadata": {
        "id": "Ua8Nr13TJ41H"
      },
      "source": [
        "### Substitution using named groups\n",
        "\n",
        "We can refer to named groups in the replacement string using the syntax:\n",
        "\n",
        "`\\g<GROUP_NAME>`\n",
        "\n",
        "\n",
        "To reverse our email addresses in our captains text:"
      ]
    },
    {
      "cell_type": "code",
      "execution_count": null,
      "metadata": {
        "colab": {
          "base_uri": "https://localhost:8080/"
        },
        "id": "zkbJZpM3eAub",
        "outputId": "cad29375-7801-43e2-81cb-d988d198b26e"
      },
      "outputs": [
        {
          "output_type": "stream",
          "name": "stdout",
          "text": [
            "Ahab: com.pequod.ahab\n",
            "Peleg: com.pequod.peleg\n",
            "Ishmael: com.pequod.ishmael\n",
            "Herman: io.acushnet.herman\n",
            "Pollard: me.essex.pollard\n",
            "\n"
          ]
        }
      ],
      "source": [
        "new_text = re.sub(\"(?P<name>\\w+)\\@(?P<SLD>\\w+)\\.(?P<TLD>\\w+)\", \"\\g<TLD>.\\g<SLD>.\\g<name>\", captains)\n",
        "\n",
        "print(new_text)"
      ]
    },
    {
      "cell_type": "markdown",
      "metadata": {
        "id": "vq491ZqXVo1r"
      },
      "source": [
        "### Compiling regexes\n",
        "\n",
        "There is some cost to compiling a regular expression pattern. If you are using the same regular expression many times, it is more efficient to compile it once. This is done using the re.compile() function, which returns a compiled regular expression object based on a match pattern:"
      ]
    },
    {
      "cell_type": "code",
      "execution_count": null,
      "metadata": {
        "colab": {
          "base_uri": "https://localhost:8080/"
        },
        "id": "dOHZN2rUKOxe",
        "outputId": "7ae1893c-4e0b-4ea5-ff3a-79b4693ecb89"
      },
      "outputs": [
        {
          "output_type": "execute_result",
          "data": {
            "text/plain": [
              "re.compile(r'\\w+: (?P<name>\\w+)\\@(?P<SLD>\\w+)\\.(?P<TLD>\\w+)', re.UNICODE)"
            ]
          },
          "metadata": {},
          "execution_count": 66
        }
      ],
      "source": [
        "regex = re.compile(\"\\w+: (?P<name>\\w+)\\@(?P<SLD>\\w+)\\.(?P<TLD>\\w+)\")\n",
        "regex"
      ]
    },
    {
      "cell_type": "markdown",
      "metadata": {
        "id": "ugqBhVMB4kA_"
      },
      "source": [
        "This object has method mapping many of the re functions, such as match(), search(), findall, finditer() and sub():"
      ]
    },
    {
      "cell_type": "code",
      "execution_count": null,
      "metadata": {
        "colab": {
          "base_uri": "https://localhost:8080/"
        },
        "id": "O95Ypa_M40lQ",
        "outputId": "b3c3b050-f608-4722-b49a-b3e39ee13e66"
      },
      "outputs": [
        {
          "output_type": "execute_result",
          "data": {
            "text/plain": [
              "<re.Match object; span=(0, 21), match='Ahab: ahab@pequod.com'>"
            ]
          },
          "metadata": {},
          "execution_count": 67
        }
      ],
      "source": [
        "regex.match(captains)"
      ]
    },
    {
      "cell_type": "code",
      "execution_count": null,
      "metadata": {
        "colab": {
          "base_uri": "https://localhost:8080/"
        },
        "id": "m5oqqfRNLIq0",
        "outputId": "d056c540-f6ab-4903-e97c-e23cad65eba2"
      },
      "outputs": [
        {
          "output_type": "execute_result",
          "data": {
            "text/plain": [
              "<re.Match object; span=(0, 21), match='Ahab: ahab@pequod.com'>"
            ]
          },
          "metadata": {},
          "execution_count": 68
        }
      ],
      "source": [
        "regex.search(captains)"
      ]
    },
    {
      "cell_type": "code",
      "execution_count": null,
      "metadata": {
        "colab": {
          "base_uri": "https://localhost:8080/"
        },
        "id": "1ZvT8Ug75Gxw",
        "outputId": "54f96a82-85a9-4b88-d428-0a69c7a54601"
      },
      "outputs": [
        {
          "output_type": "execute_result",
          "data": {
            "text/plain": [
              "[('ahab', 'pequod', 'com'),\n",
              " ('peleg', 'pequod', 'com'),\n",
              " ('ishmael', 'pequod', 'com'),\n",
              " ('herman', 'acushnet', 'io'),\n",
              " ('pollard', 'essex', 'me')]"
            ]
          },
          "metadata": {},
          "execution_count": 69
        }
      ],
      "source": [
        "regex.findall(captains)"
      ]
    },
    {
      "cell_type": "code",
      "execution_count": null,
      "metadata": {
        "colab": {
          "base_uri": "https://localhost:8080/"
        },
        "id": "CtKrJBnR5NJN",
        "outputId": "b081cd2f-bea3-46a7-c709-1039e9048e80"
      },
      "outputs": [
        {
          "output_type": "stream",
          "name": "stdout",
          "text": [
            "Ahoy ahab!\n",
            "Ahoy peleg!\n",
            "Ahoy ishmael!\n",
            "Ahoy herman!\n",
            "Ahoy pollard!\n",
            "\n"
          ]
        }
      ],
      "source": [
        "new_text = regex.sub(\"Ahoy \\g<name>!\", captains)\n",
        "print(new_text)"
      ]
    },
    {
      "cell_type": "code",
      "execution_count": null,
      "metadata": {
        "id": "DmZJ4gOG5hNx"
      },
      "outputs": [],
      "source": [
        ""
      ]
    },
    {
      "cell_type": "markdown",
      "metadata": {
        "id": "zexzeVhFel0D"
      },
      "source": [
        "## Summary\n",
        "\n",
        "In this chapter we've introduced sorting data, file objects, the datetime library, and the re library. Having at least a passing knowledge of these is important for any Python developer. Sorting is done either the sorted() function or object sort() methods, such as the one attached to list objects. Files can be opened using the open() function. While open they can be read from or written to. The datetimne library models time and is particularly useful when dealing with time-series data. And finally the re library can be used to define complicated searches of texts."
      ]
    }
  ],
  "metadata": {
    "colab": {
      "name": "Copy of Chpt15-Other.Topics.ipynb",
      "provenance": [],
      "include_colab_link": true
    },
    "kernelspec": {
      "display_name": "Python 3",
      "language": "python",
      "name": "python3"
    },
    "language_info": {
      "codemirror_mode": {
        "name": "ipython",
        "version": 3
      },
      "file_extension": ".py",
      "mimetype": "text/x-python",
      "name": "python",
      "nbconvert_exporter": "python",
      "pygments_lexer": "ipython3",
      "version": "3.9.1"
    }
  },
  "nbformat": 4,
  "nbformat_minor": 0
}