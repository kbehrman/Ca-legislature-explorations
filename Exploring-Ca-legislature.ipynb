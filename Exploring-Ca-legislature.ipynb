{
 "cells": [
  {
   "cell_type": "code",
   "execution_count": null,
   "metadata": {
    "collapsed": true
   },
   "outputs": [],
   "source": [
    "import configparser\n",
    "import pymysql\n",
    "from matplotlib.backends.backend_pdf import PdfPages\n",
    "from collections import defaultdict\n",
    "import pandas as pd\n",
    "import matplotlib.pyplot as plt\n",
    "import sys\n",
    "import os\n",
    "local_root = os.getcwd()"
   ]
  },
  {
   "cell_type": "code",
   "execution_count": null,
   "metadata": {},
   "outputs": [],
   "source": [
    "# connect to db\n",
    "config_path = os.path.join(local_root, \"config.cfg\")\n",
    "cp = configparser.ConfigParser()\n",
    "cp.read(config_path)\n",
    "mysql_user = cp['MYSQL']['user']\n",
    "mysql_password = cp['MYSQL']['password']\n",
    "conn = pymysql.connect(user='root', password=mysql_password)\n",
    "cursor = conn.cursor()\n"
   ]
  },
  {
   "cell_type": "code",
   "execution_count": null,
   "metadata": {
    "collapsed": true
   },
   "outputs": [],
   "source": [
    "# want to get to grouping legilators by who votes for whom - Done\n",
    "# start, take single legislator, map who votes for their bills - Done\n",
    "# start, take singe bill, see who votes for it - Done\n",
    "# get all bills sponsered by single legislator,  - Done\n",
    "# how often do two legislators vote the same way\n",
    "# which legislators change votes on versions most"
   ]
  },
  {
   "cell_type": "code",
   "execution_count": null,
   "metadata": {
    "collapsed": true
   },
   "outputs": [],
   "source": [
    "# Get all of votes on bills sponsored by the legislator\n",
    "def get_votes(sponsor, author_type='sponsor'):\n",
    "    author_types = ['sponsor', 'lead', 'primary']\n",
    "    if author_type not in author_types:\n",
    "        raise ValueError(\"Valid author_types: {0}\".format(\", \".join(author_types)))\n",
    "        \n",
    "    sponsorship = (\"select a.bill_id from capublic.bill_tbl a\" + \n",
    "                   \" join capublic.bill_version_authors_tbl b\" + \n",
    "                   \" where a.latest_bill_version_id = b.bill_version_id\" +\n",
    "                   \" and  b.name = %s;\") \n",
    "    \n",
    "    lead_author = (\"select a.bill_id from capublic.bill_tbl a\" + \n",
    "                   \" join capublic.bill_version_authors_tbl b\" + \n",
    "                   \" where a.latest_bill_version_id = b.bill_version_id\" +\n",
    "                   \" and  b.name = %s\" +\n",
    "                   \" and contribution = 'LEAD_AUTHOR';\")\n",
    "\n",
    "    primary_author = (\"select a.bill_id from capublic.bill_tbl a\" + \n",
    "                      \" join capublic.bill_version_authors_tbl b\" + \n",
    "                      \" where a.latest_bill_version_id = b.bill_version_id and\" + \n",
    "                      \" b.name = %s and\" + \n",
    "                      \" contribution = 'LEAD_AUTHOR' and\" + \n",
    "                      \" primary_author_flg = 'Y';\")\n",
    "    sql = {\"sponsor\":sponsorship,\n",
    "           \"lead\": lead_author,\n",
    "           \"primary\": primary_author}[author_type]\n",
    "\n",
    "    cursor.execute(sql, sponsor)\n",
    "    bill_ids = cursor.fetchall()\n",
    "    bill_count = len(bill_ids)\n",
    "    votes = defaultdict(list)\n",
    "    for bill_id in bill_ids:\n",
    "        # get votes on bill\n",
    "        cursor.execute(\"SELECT legislator_name, vote_code from capublic.bill_detail_vote_tbl WHERE bill_id = %s;\", (bill_id,))\n",
    "\n",
    "        for vote in cursor.fetchall():\n",
    "            votes[vote[0]].append(1 if vote[1] == 'AYE' else -1)\n",
    "    return votes, bill_count\n",
    "        \n"
   ]
  },
  {
   "cell_type": "code",
   "execution_count": null,
   "metadata": {
    "collapsed": true
   },
   "outputs": [],
   "source": [
    "# Get Party affiliations\n",
    "def get_legislators():\n",
    "    sql = \"select author_name, party from capublic.legislator_tbl;\"\n",
    "    cursor.execute(sql)\n",
    "    data = list(cursor.fetchall())\n",
    "    return pd.DataFrame(data, columns=[\"Name\", \"Party\"])\n"
   ]
  },
  {
   "cell_type": "code",
   "execution_count": null,
   "metadata": {
    "collapsed": true
   },
   "outputs": [],
   "source": [
    "# caclculate score of voting for legislator's bills\n",
    "def calc_score_data(votes, legislators):\n",
    "    scores = []\n",
    "    max_vote_count = 0\n",
    "    for l in votes:\n",
    "        if len(votes[l]):\n",
    "            score = sum(votes[l])/len(votes[l])\n",
    "            vote_count = len(votes[l])\n",
    "            max_vote_count = max(max_vote_count, vote_count)\n",
    "            scores.append([l, score, vote_count,])\n",
    "    scores = pd.DataFrame(scores, columns=['Name','Score','Vote Count'])\n",
    "    data = pd.merge(legislators, scores)\n",
    "    data['% Bills Voted'] = data['Vote Count'].apply(lambda x: (x/max_vote_count)*100)\n",
    "    # Remove outlier\n",
    "    data = data[[(x > 10) for x in data['% Bills Voted']]]\n",
    "    return data\n",
    "\n"
   ]
  },
  {
   "cell_type": "code",
   "execution_count": null,
   "metadata": {
    "collapsed": true
   },
   "outputs": [],
   "source": [
    "def sponsorship_report(sponsor, legislators):\n",
    "    # sponsor\n",
    "    votes, bill_count = get_votes(sponsor, author_type='sponsor')\n",
    "    data = calc_score_data(votes, legislators)\n",
    "    title= f\"{bill_count} bills with {sponsor} as sponsor\"\n",
    "    return data, title\n",
    "    \n",
    "def lead_report(sponsor, legislators):\n",
    "    # lead\n",
    "    votes, bill_count = get_votes(sponsor, author_type='lead')\n",
    "    data = calc_score_data(votes, legislators)\n",
    "    title= f\"{bill_count} bills with {sponsor} as lead author\"\n",
    "    return data, title\n",
    "    \n",
    "def primary_report(sponsor, legislators):\n",
    "    # primary\n",
    "    votes, bill_count = get_votes(sponsor, author_type='primary')\n",
    "    data = calc_score_data(votes, legislators)\n",
    "    title= f\"{bill_count} bills with {sponsor} as primary lead author\"\n",
    "    return data, title"
   ]
  },
  {
   "cell_type": "code",
   "execution_count": null,
   "metadata": {
    "collapsed": true
   },
   "outputs": [],
   "source": [
    "def report_on_sponsor(sponsor):\n",
    "    sponsor_row = legislators.loc[legislators['Name'] == sponsor]\n",
    "   # print(sponsor_row)\n",
    "    sponsor_party = sponsor_row['Party'].values[0]\n",
    "\n",
    "\n",
    "    fig, axarr = plt.subplots(2, 2)\n",
    "    fig.suptitle(f\"Votes on bills with {sponsor} ({sponsor_party}) as sponsor/author\", fontsize=10, fontweight='bold')\n",
    "\n",
    "\n",
    "    data, title = sponsorship_report(sponsor, legislators)\n",
    "    do_plot_pyplot(data, sponsor, title, axarr, 0, 0)\n",
    "\n",
    "    axarr[0,1].axis('off')\n",
    "\n",
    "    data, title = lead_report(sponsor, legislators)\n",
    "    do_plot_pyplot(data, sponsor, title, axarr, 1, 0)\n",
    "\n",
    "    data, title = primary_report(sponsor, legislators)\n",
    "    do_plot_pyplot(data, sponsor, title, axarr, 1, 1)\n",
    "    \n",
    "    fig.tight_layout()\n",
    "    fig.subplots_adjust(top=0.88)\n"
   ]
  },
  {
   "cell_type": "code",
   "execution_count": null,
   "metadata": {
    "collapsed": true
   },
   "outputs": [],
   "source": [
    "def do_plot_pyplot(data, sponsor, title, axarr, i, j):\n",
    "    \n",
    "    colors = [\"#4878CF\" if x == \"DEM\" else \"#D65F5F\" for x in data[\"Party\"] ]\n",
    "    #area = data[\"Vote Count\"]/(max(data[\"Vote Count\"])-min(data[\"Vote Count\"])) * \n",
    "    ax = axarr[i,j]\n",
    "\n",
    "    ax.set_title(title, fontsize=6)\n",
    "    \n",
    "    ax.scatter('Score', \"% Bills Voted\",data=data, s=0.3, c=colors, alpha=1)\n",
    "    ax.set_xlabel(\"Score ( [AYEs - NOEs]/[total votes taken])\", fontsize=5)\n",
    "    ax.tick_params('both', labelsize=5)\n",
    "    sponsor_row = data[data['Name'] == sponsor]\n",
    "\n",
    "    try:\n",
    "        ax.annotate(\n",
    "            sponsor_row['Name'].values[0],\n",
    "            xy= (sponsor_row['Score'].values[0], \n",
    "                 sponsor_row['% Bills Voted'].values[0]),\n",
    "            xytext=(24,8),\n",
    "            textcoords='offset points', ha='right', va='center',\n",
    "            bbox=dict(boxstyle='round,pad=0.3', fc='yellow', alpha=0.3),\n",
    "            arrowprops=dict(arrowstyle = '->', connectionstyle='arc3,rad=0'),\n",
    "            fontsize=4\n",
    "       )\n",
    "    except Exception as e:\n",
    "        print(e)\n",
    "        print(data[data['Name'] == sponsor])\n",
    "        \n",
    "    if SHOW_ALL_LABELS:\n",
    "        for _,row in data.iterrows():    \n",
    "            ax.annotate(\n",
    "                row['Name'],\n",
    "                xy= (row['Score'], \n",
    "                     row['% Bills Voted']),\n",
    "                xytext=(0,0),\n",
    "                textcoords='offset points', ha='left', va='bottom',\n",
    "                #bbox=dict(boxstyle='round,pad=0.3', fc='yellow', alpha=0.3),\n",
    "                #arrowprops=dict(arrowstyle = '->', connectionstyle='arc3,rad=0'),\n",
    "                fontsize=2\n",
    "            )\n",
    "\n",
    "\n"
   ]
  },
  {
   "cell_type": "code",
   "execution_count": null,
   "metadata": {
    "collapsed": true
   },
   "outputs": [],
   "source": [
    "# All legislators\n",
    "SHOW_ALL_LABELS = False\n",
    "\n",
    "file_path = os.path.join(local_root, \"output/2017-votes-report.pdf\")\n",
    "file_writer = PdfPages(file_path)\n",
    "\n",
    "legislators = get_legislators()\n",
    "for sponsor in legislators['Name']:\n",
    "    sys.stdout.write(f\"\\rProcessing {sponsor}\")\n",
    "    sys.stdout.flush()\n",
    "    fig = report_on_sponsor(sponsor)\n",
    "    file_writer.savefig(bbox_inches='tight')\n",
    "\n",
    "file_writer.close()\n",
    "plt.close('all')\n",
    "print(\"\\nDone\")"
   ]
  },
  {
   "cell_type": "code",
   "execution_count": null,
   "metadata": {},
   "outputs": [],
   "source": [
    "# Do single legislator for faster testing: Chiu \n",
    "SHOW_ALL_LABELS = False\n",
    "\n",
    "legislators = get_legislators()\n",
    "\n",
    "file_path = os.path.join(local_root, \"/output/test_chiu.pdf\")\n",
    "file_writer = PdfPages(file_path)\n",
    "sponsor = 'Chiu'\n",
    "report_on_sponsor(sponsor)\n",
    "\n",
    "\n",
    "\n",
    "file_writer.savefig(bbox_inches='tight')\n",
    "    \n",
    "file_writer.close()\n",
    "plt.show()\n",
    "plt.close('all')\n",
    "print(\"Done\")"
   ]
  },
  {
   "cell_type": "code",
   "execution_count": null,
   "metadata": {},
   "outputs": [],
   "source": []
  },
  {
   "cell_type": "code",
   "execution_count": null,
   "metadata": {
    "collapsed": true
   },
   "outputs": [],
   "source": []
  }
 ],
 "metadata": {
  "kernelspec": {
   "display_name": "mypy36",
   "language": "python",
   "name": "mypy36"
  },
  "language_info": {
   "codemirror_mode": {
    "name": "ipython",
    "version": 3
   },
   "file_extension": ".py",
   "mimetype": "text/x-python",
   "name": "python",
   "nbconvert_exporter": "python",
   "pygments_lexer": "ipython3",
   "version": "3.6.2"
  }
 },
 "nbformat": 4,
 "nbformat_minor": 2
}
