{
  "nbformat": 4,
  "nbformat_minor": 0,
  "metadata": {
    "colab": {
      "name": "Copy of Chpt 13 Functional Programming.ipynb",
      "provenance": [],
      "collapsed_sections": [],
      "authorship_tag": "ABX9TyOP0BMiCVVxayOGjh7V4mnB",
      "include_colab_link": true
    },
    "kernelspec": {
      "display_name": "Python 3",
      "language": "python",
      "name": "python3"
    },
    "language_info": {
      "codemirror_mode": {
        "name": "ipython",
        "version": 3
      },
      "file_extension": ".py",
      "mimetype": "text/x-python",
      "name": "python",
      "nbconvert_exporter": "python",
      "pygments_lexer": "ipython3",
      "version": "3.9.1"
    }
  },
  "cells": [
    {
      "cell_type": "markdown",
      "metadata": {
        "id": "view-in-github",
        "colab_type": "text"
      },
      "source": [
        "<a href=\"https://colab.research.google.com/github/kbehrman/Ca-legislature-explorations/blob/master/Chapter-13%3AFunctional-Programming.ipynb\" target=\"_parent\"><img src=\"https://colab.research.google.com/assets/colab-badge.svg\" alt=\"Open In Colab\"/></a>"
      ]
    },
    {
      "cell_type": "markdown",
      "metadata": {
        "id": "UY2_5AFsJKkc"
      },
      "source": [
        "## Functional programming and generators"
      ]
    },
    {
      "cell_type": "markdown",
      "metadata": {
        "id": "WyVgpkZur_-F"
      },
      "source": [
        "As we have seen, a python program, at it's most basic is composed of a series of statements, simple and compound. The way in which we organize these statements has ramifications for performance, readablility, and ease of modification. Some approaches that have wide adoption are procedural programming, functional programming, and object oriented programming. In this chapter we will introduce some of the concepts of functional programming as well as comprehensions and generators, both of which were borrowed from purley functional langueages. "
      ]
    },
    {
      "cell_type": "markdown",
      "metadata": {
        "id": "GYb30MvHk9tp"
      },
      "source": [
        "### Functional Programming\n"
      ]
    },
    {
      "cell_type": "markdown",
      "metadata": {
        "id": "uPdF6m0Lv_di"
      },
      "source": [
        "Functional programming is based on the mathematical definition of functions. A function in this sense, maps an input to an output. For any input there can only be a single output, that is the output for a distinct input will always be the same. There are programming languages which adhere to this limitation strictly, such as Haskall and Erlang. Python is flexible enough that we can adopt some functional concepts, without the strictness. Functional programming in Python is sometimes refered to as Functional Light."
      ]
    },
    {
      "cell_type": "markdown",
      "metadata": {
        "id": "PohjG7oQgkzj"
      },
      "source": [
        "#### State\n",
        "\n",
        "The state of a program is comprised of names, definintions, and values the exist at a certain time in that program. This in includes function definitions, modules imported, and values assigned to variables. State has whats known as a scope, this is area of the program for which the state holds. Scopes are heirarchical. When we indent a block of code, this code has a nested scope. It inherits scope from the unindented code around it, but does not directly change the outer scope.\n",
        "In listing 14.1 we set values for the variables a and b in the outer scope. Then in the code block of the function we set a to a different value and print both variables. You can see that when the function is called it uses it's own definition of the variable a, but inherits that for b. In the out scope, the value assigned by the function to a is ignored, as it is out of scope.\n",
        " "
      ]
    },
    {
      "cell_type": "code",
      "metadata": {
        "colab": {
          "base_uri": "https://localhost:8080/"
        },
        "id": "muhRsN8A1q0P",
        "outputId": "0cc6d2c9-a47e-46f7-9f6b-2515f45ebe95"
      },
      "source": [
        "a = 'a outer'\n",
        "b = 'b outer'\n",
        "\n",
        "def scoped_function():\n",
        "    a = 'a inner'\n",
        "    print(a)\n",
        "    print(b)\n",
        "\n",
        "scoped_function()\n",
        "print(a)\n",
        "print(b)"
      ],
      "execution_count": null,
      "outputs": [
        {
          "output_type": "stream",
          "name": "stdout",
          "text": [
            "a inner\n",
            "b outer\n",
            "a outer\n",
            "b outer\n"
          ]
        }
      ]
    },
    {
      "cell_type": "markdown",
      "metadata": {
        "id": "XJT7O3qD1bBg"
      },
      "source": [
        "### Depending on Global State\n",
        "\n",
        "So far the code in this book has mostly been presented using the Procedural approach. In this approach the current state is defined by the statements that have run on the lines before the present one. This state is shared through the program, and modified throughout. This means that a function which uses the state to determine it's output could have a different output with the same input. Lets look at some examples contrasting the procedural approach with a functional one.\n",
        "\n",
        "In listing 14.2 we create a function, describe_the_wind(), which returns a sentence using a variable, wind, defined in the outer scope. You can see that the output of this function will be different depending on this variable. "
      ]
    },
    {
      "cell_type": "code",
      "metadata": {
        "colab": {
          "base_uri": "https://localhost:8080/",
          "height": 35
        },
        "id": "OBRWaNjHi8Gb",
        "outputId": "a87f33d3-7dfa-4343-a47f-1d4d0e9b4617"
      },
      "source": [
        "wind = 'Southeast'\n",
        "\n",
        "def describe_the_wind():\n",
        "  return f'The wind blows from the {wind}'\n",
        "\n",
        "describe_the_wind()"
      ],
      "execution_count": null,
      "outputs": [
        {
          "output_type": "execute_result",
          "data": {
            "text/plain": [
              "'The wind blows from the Southeast'"
            ],
            "application/vnd.google.colaboratory.intrinsic+json": {
              "type": "string"
            }
          },
          "metadata": {},
          "execution_count": 2
        }
      ]
    },
    {
      "cell_type": "code",
      "metadata": {
        "colab": {
          "base_uri": "https://localhost:8080/",
          "height": 35
        },
        "id": "vKKDsRrsYecL",
        "outputId": "f0429ad9-c610-4703-b1a1-e2b495ac8543"
      },
      "source": [
        "wind = 'North'\n",
        "describe_the_wind()"
      ],
      "execution_count": null,
      "outputs": [
        {
          "output_type": "execute_result",
          "data": {
            "text/plain": [
              "'The wind blows from the North'"
            ],
            "application/vnd.google.colaboratory.intrinsic+json": {
              "type": "string"
            }
          },
          "metadata": {},
          "execution_count": 3
        }
      ]
    },
    {
      "cell_type": "markdown",
      "metadata": {
        "id": "SQ3i70ApGJQc"
      },
      "source": [
        "A more functional approach is to pass the variable as a argument, in this way, the function will return the same value for a value passed to it regardless of the outer state: "
      ]
    },
    {
      "cell_type": "code",
      "metadata": {
        "colab": {
          "base_uri": "https://localhost:8080/",
          "height": 35
        },
        "id": "SoIA9ynnGLWo",
        "outputId": "1eafc43e-ed09-40a0-fb78-079bfa55ec10"
      },
      "source": [
        "def describe_the_wind(wind):\n",
        "  return f'The wind blows from the {wind}'\n",
        "\n",
        "describe_the_wind('Northeast')"
      ],
      "execution_count": null,
      "outputs": [
        {
          "output_type": "execute_result",
          "data": {
            "text/plain": [
              "'The wind blows from the Northeast'"
            ],
            "application/vnd.google.colaboratory.intrinsic+json": {
              "type": "string"
            }
          },
          "metadata": {},
          "execution_count": 4
        }
      ]
    },
    {
      "cell_type": "markdown",
      "metadata": {
        "id": "FygmidaBkYYY"
      },
      "source": [
        "#### Changing state\n",
        "\n",
        "In addition to not relying on outside state, a functional function should not directly change outside state. In listing 14.3 we demonastrate a program which changes an outerstate variable, WIND, withing a function change_wind(). Notice the use of the global keyword, this indicates we wish to change an outstate variable rather than defining a new variable in the inner state."
      ]
    },
    {
      "cell_type": "code",
      "metadata": {
        "colab": {
          "base_uri": "https://localhost:8080/",
          "height": 35
        },
        "id": "50h4eF7okhsg",
        "outputId": "4dcf09b9-bfe1-434b-a24d-a8ad2f0ec3bd"
      },
      "source": [
        "WINDS = ['Northeast', 'Northwest', 'Southeast', 'Southwest']\n",
        "WIND = WINDS[0]\n",
        "\n",
        "def change_wind():\n",
        "  global WIND\n",
        "  WIND = WINDS[(WINDS.index(WIND) + 1)%3]\n",
        "  \n",
        "WIND"
      ],
      "execution_count": null,
      "outputs": [
        {
          "output_type": "execute_result",
          "data": {
            "text/plain": [
              "'Northeast'"
            ],
            "application/vnd.google.colaboratory.intrinsic+json": {
              "type": "string"
            }
          },
          "metadata": {},
          "execution_count": 5
        }
      ]
    },
    {
      "cell_type": "code",
      "metadata": {
        "colab": {
          "base_uri": "https://localhost:8080/",
          "height": 35
        },
        "id": "dxGKKBAo3-yw",
        "outputId": "774b1a9d-0dcc-4dfb-eae4-eaadbee4636a"
      },
      "source": [
        "change_wind()\n",
        "WIND"
      ],
      "execution_count": null,
      "outputs": [
        {
          "output_type": "execute_result",
          "data": {
            "text/plain": [
              "'Northwest'"
            ],
            "application/vnd.google.colaboratory.intrinsic+json": {
              "type": "string"
            }
          },
          "metadata": {},
          "execution_count": 6
        }
      ]
    },
    {
      "cell_type": "code",
      "metadata": {
        "colab": {
          "base_uri": "https://localhost:8080/"
        },
        "id": "Qlf5tNksnZSH",
        "outputId": "dc4f0a66-9588-4c7e-a332-f0b7e1fc729a"
      },
      "source": [
        "for _ in WINDS:\n",
        "  print(WIND)\n",
        "  change_wind()\n"
      ],
      "execution_count": null,
      "outputs": [
        {
          "output_type": "stream",
          "name": "stdout",
          "text": [
            "Northwest\n",
            "Southeast\n",
            "Northeast\n",
            "Northwest\n"
          ]
        }
      ]
    },
    {
      "cell_type": "markdown",
      "metadata": {
        "id": "BmnzjtIHGmLp"
      },
      "source": [
        "A more functional approach to getting the same output is to move the winds variable into the inner state and have the function change_wind() take an argument to determine the output. We demonstrate this in Listing 14.4."
      ]
    },
    {
      "cell_type": "code",
      "metadata": {
        "colab": {
          "base_uri": "https://localhost:8080/"
        },
        "id": "8FUEdYrPGpI4",
        "outputId": "078ffa5f-fe11-4eed-cd84-d607b172dd94"
      },
      "source": [
        "def change_wind(wind_index):\n",
        "  winds = ['Northeast', 'Northwest', 'Southeast', 'Southwest']\n",
        "  return winds[wind_index]\n",
        "\n",
        "print( change_wind(0) )\n",
        "print( change_wind(1) )\n",
        "print( change_wind(2) )\n",
        "print( change_wind(3) )"
      ],
      "execution_count": null,
      "outputs": [
        {
          "output_type": "stream",
          "name": "stdout",
          "text": [
            "Northeast\n",
            "Northwest\n",
            "Southeast\n",
            "Southwest\n"
          ]
        }
      ]
    },
    {
      "cell_type": "markdown",
      "metadata": {
        "id": "iDRs8e5Zgpt5"
      },
      "source": [
        "#### Changing Mutable Data\n",
        "Another more subtle way of changing outside state is by passing mutable objects. Remember that mutable objects are objects, such as lists and dictionaries, whose contents can be changed. If you set a variable in an outer state, pass it as an argument to a function, and then change it's value in the functions inner state, that the outerstate version of the variable will retain its original value."
      ]
    },
    {
      "cell_type": "code",
      "metadata": {
        "colab": {
          "base_uri": "https://localhost:8080/"
        },
        "id": "tCsvAU2_lmDI",
        "outputId": "27100b35-9fce-4ae1-e183-a1a7e5448d6a"
      },
      "source": [
        "b = 1\n",
        "\n",
        "def foo(a):\n",
        "    a = 2\n",
        "\n",
        "foo(b)\n",
        "\n",
        "print(b)"
      ],
      "execution_count": null,
      "outputs": [
        {
          "output_type": "stream",
          "name": "stdout",
          "text": [
            "1\n"
          ]
        }
      ]
    },
    {
      "cell_type": "markdown",
      "metadata": {
        "id": "HTk5_THHmbDU"
      },
      "source": [
        "However, if we pass a mutable object, such as a dictionary as an argument to a function, any change done to that object in the function will be reflected in the outer state as well. Below we define a function which takes a dictionary as an argument and changes one of it's values. You can see that the dictionary, d, when passed to this function, had it's value changed in the outer state:"
      ]
    },
    {
      "cell_type": "code",
      "metadata": {
        "colab": {
          "base_uri": "https://localhost:8080/"
        },
        "id": "ER1QjmDLgzra",
        "outputId": "5a95bdd3-5f5b-4e19-fd66-8f96dc63d5cb"
      },
      "source": [
        "d = {\"vehicle\": \"ship\", \"owner\": \"Joseph Bruce Ismay\"}\n",
        "\n",
        "def change_mutable_data(data):\n",
        "  '''A function which changes mutable data.'''\n",
        "  data['owner'] = 'White Star Line'\n",
        "\n",
        "  \n",
        "change_mutable_data(d)\n",
        "print(d)\n"
      ],
      "execution_count": null,
      "outputs": [
        {
          "output_type": "stream",
          "name": "stdout",
          "text": [
            "{'vehicle': 'ship', 'owner': 'White Star Line'}\n"
          ]
        }
      ]
    },
    {
      "cell_type": "markdown",
      "metadata": {
        "id": "OJD2zsEje_8B"
      },
      "source": [
        "Changing mutable objects outside scope in this manner can lead to subtle bugs. One way to avoid this, assuming your data structure isn't too big, is to make a copy in the inner scope, and manipulate this:"
      ]
    },
    {
      "cell_type": "code",
      "metadata": {
        "colab": {
          "base_uri": "https://localhost:8080/"
        },
        "id": "h13Xi0XLfC-s",
        "outputId": "5fac9542-1436-4c53-9ff9-6649299f47f1"
      },
      "source": [
        "d = {\"vehicle\": \"ship\", \"owner\": \"Joseph Bruce Ismay\"}\n",
        "\n",
        "def change_owner(data):\n",
        "  new_data = data.copy()\n",
        "  new_data['owner'] = 'White Star Line'\n",
        "  return new_data\n",
        "\n",
        "\n",
        "changed = change_owner(d)\n",
        "changed"
      ],
      "execution_count": null,
      "outputs": [
        {
          "output_type": "execute_result",
          "data": {
            "text/plain": [
              "{'owner': 'White Star Line', 'vehicle': 'ship'}"
            ]
          },
          "metadata": {},
          "execution_count": 11
        }
      ]
    },
    {
      "cell_type": "markdown",
      "metadata": {
        "id": "ASU_xzfpdByQ"
      },
      "source": [
        "By doing this, it is much easier to see where the values are changed. "
      ]
    },
    {
      "cell_type": "markdown",
      "metadata": {
        "id": "vd51qw3XlCl3"
      },
      "source": [
        "### Functional Programming Functions\n",
        "Three built-in functions that come from the Functional programming world are map(), filter(), and reduce(). \n"
      ]
    },
    {
      "cell_type": "markdown",
      "metadata": {
        "id": "8tLaYYigdAox"
      },
      "source": [
        "The map function applys a function to a sequence of values and returns a map object. The input sequence can be any iterable type. That is any object that can be iterated, such as Python Sequences. The map object returned is an iteratable also, so we can loop through it or cast it to a list to view the results:"
      ]
    },
    {
      "cell_type": "code",
      "metadata": {
        "colab": {
          "base_uri": "https://localhost:8080/"
        },
        "id": "G4egV1e-pzpk",
        "outputId": "c6875840-d40c-40ca-9da6-f8cd4cab3e1f"
      },
      "source": [
        "def grow_flowers(d):\n",
        "  return d * \"❀\"\n",
        "\n",
        "gardens = map(grow_flowers, [0,1,2,3,4,5])\n",
        "\n",
        "type(gardens)"
      ],
      "execution_count": null,
      "outputs": [
        {
          "output_type": "execute_result",
          "data": {
            "text/plain": [
              "map"
            ]
          },
          "metadata": {},
          "execution_count": 15
        }
      ]
    },
    {
      "cell_type": "code",
      "metadata": {
        "colab": {
          "base_uri": "https://localhost:8080/"
        },
        "id": "lzY-YknJaXIE",
        "outputId": "a5514186-2d3a-4c4f-c114-54fc74b0eea7"
      },
      "source": [
        "list(gardens)"
      ],
      "execution_count": null,
      "outputs": [
        {
          "output_type": "execute_result",
          "data": {
            "text/plain": [
              "['', '❀', '❀❀', '❀❀❀', '❀❀❀❀', '❀❀❀❀❀']"
            ]
          },
          "metadata": {},
          "execution_count": 16
        }
      ]
    },
    {
      "cell_type": "markdown",
      "metadata": {
        "id": "Y2-i3xIsJB76"
      },
      "source": [
        "You can supply map with a function which takes multiple arguments and supply multiple sequences of input values:"
      ]
    },
    {
      "cell_type": "code",
      "metadata": {
        "colab": {
          "base_uri": "https://localhost:8080/"
        },
        "id": "prTZtPBkqz8g",
        "outputId": "0a1d8986-123b-4adc-cc7d-ad1d8508f2ae"
      },
      "source": [
        "l1 = [0,1,2,3,4]\n",
        "l2 = [11,10,9,8,7,6]\n",
        "\n",
        "def multi(d1, d2):\n",
        "  return d1 * d2\n",
        "\n",
        "result = map(multi, l1, l2)\n",
        "print( list(result) )"
      ],
      "execution_count": null,
      "outputs": [
        {
          "output_type": "stream",
          "name": "stdout",
          "text": [
            "[0, 10, 18, 24, 28]\n"
          ]
        }
      ]
    },
    {
      "cell_type": "markdown",
      "metadata": {
        "id": "yVcBd6uyfvmT"
      },
      "source": [
        "Notice that one of the input sequences was longer than the other. The map function will stop when it reaches the end of the shortest input sequence.\n",
        "\n",
        "The reduce() function also takes a function and an iterable as arguments. It then uses the function to return a single value based on the input. For example, if we want to subtract debit from an account balance, we could do it with a for loop like this: "
      ]
    },
    {
      "cell_type": "code",
      "metadata": {
        "colab": {
          "base_uri": "https://localhost:8080/"
        },
        "id": "_-bTj20Asd3o",
        "outputId": "417d3268-3c1b-4b76-8dc1-2b926054193f"
      },
      "source": [
        "initial_balance = 10000\n",
        "debits = [20, 40, 300, 3000, 1, 234]\n",
        "\n",
        "balance = initial_balance\n",
        "\n",
        "for debit in debits:\n",
        "  balance -= debit\n",
        "  \n",
        "balance"
      ],
      "execution_count": null,
      "outputs": [
        {
          "output_type": "execute_result",
          "data": {
            "text/plain": [
              "6405"
            ]
          },
          "metadata": {},
          "execution_count": 18
        }
      ]
    },
    {
      "cell_type": "markdown",
      "metadata": {
        "id": "6TBuW2lvjQCz"
      },
      "source": [
        "Or we could achieve the same result using the reduce() function like this:"
      ]
    },
    {
      "cell_type": "code",
      "metadata": {
        "colab": {
          "base_uri": "https://localhost:8080/"
        },
        "id": "KeK7jjmUvkEZ",
        "outputId": "c388ca8c-af6e-4714-c744-145ef5298642"
      },
      "source": [
        "from functools import reduce\n",
        "\n",
        "inital_balance = 10000\n",
        "debits = [20, 40, 300, 3000, 1, 234]\n",
        "\n",
        "def minus(a, b):\n",
        "  return a - b\n",
        "\n",
        "balance = reduce(minus, debits, initial_balance)\n",
        "balance"
      ],
      "execution_count": null,
      "outputs": [
        {
          "output_type": "execute_result",
          "data": {
            "text/plain": [
              "6405"
            ]
          },
          "metadata": {},
          "execution_count": 19
        }
      ]
    },
    {
      "cell_type": "markdown",
      "metadata": {
        "id": "6GbhvAw1jgcO"
      },
      "source": [
        "The operator module provides all of the standard operators as functions, including functions for the standard mathimatical operations. We can use the operator.sub() function as an argument to reduce() as a replacement for our minus() function:"
      ]
    },
    {
      "cell_type": "code",
      "metadata": {
        "colab": {
          "base_uri": "https://localhost:8080/"
        },
        "id": "hSI7bmtJvU8l",
        "outputId": "e6a64939-cf48-44e9-b342-10b6a3d09c2b"
      },
      "source": [
        "from functools import reduce\n",
        "import operator\n",
        "\n",
        "inital_balance = 10000\n",
        "debits = [20, 40, 300, 3000, 1, 234]\n",
        "\n",
        "reduce(operator.sub, debits, initial_balance) "
      ],
      "execution_count": null,
      "outputs": [
        {
          "output_type": "execute_result",
          "data": {
            "text/plain": [
              "6405"
            ]
          },
          "metadata": {},
          "execution_count": 20
        }
      ]
    },
    {
      "cell_type": "markdown",
      "metadata": {
        "id": "Yoo1CLdclLGI"
      },
      "source": [
        "The filter() function takes a function and an iterable as arguments. The function should return True or False based on each item. The result is a iterable object of only input values that caused the function to return True. For example, to get only the capital letters from a string, we defin a function that tests whether a character is capitalized, and pass it and the string to filter():"
      ]
    },
    {
      "cell_type": "code",
      "metadata": {
        "colab": {
          "base_uri": "https://localhost:8080/"
        },
        "id": "UYODbSkU6DNF",
        "outputId": "e8ef2fd1-672b-4611-e5d6-918bbf1d1410"
      },
      "source": [
        "charles = 'ChArlesTheBald'\n",
        "\n",
        "def is_cap(a):\n",
        "  return a.isupper()\n",
        "\n",
        "retval = filter(is_cap, charles)\n",
        "\n",
        "list(retval)"
      ],
      "execution_count": null,
      "outputs": [
        {
          "output_type": "execute_result",
          "data": {
            "text/plain": [
              "['C', 'A', 'T', 'B']"
            ]
          },
          "metadata": {},
          "execution_count": 21
        }
      ]
    },
    {
      "cell_type": "markdown",
      "metadata": {
        "id": "lS_SURvor8Gs"
      },
      "source": [
        "Theses three methods are one of the few times we really recomend using lambda functions. You do doing a simple comparison, say for all the numbers less than 10 and greater than 3, by a lambda function and range() as arguments in a clean and easy to read way:"
      ]
    },
    {
      "cell_type": "code",
      "metadata": {
        "colab": {
          "base_uri": "https://localhost:8080/"
        },
        "id": "fxshlfZIbI-N",
        "outputId": "2cea3701-1de3-4ce9-e9de-2fa82788e3fb"
      },
      "source": [
        "nums = filter(lambda x: x > 3, range(10))\n",
        "list(nums)"
      ],
      "execution_count": null,
      "outputs": [
        {
          "output_type": "execute_result",
          "data": {
            "text/plain": [
              "[4, 5, 6, 7, 8, 9]"
            ]
          },
          "metadata": {},
          "execution_count": 22
        }
      ]
    },
    {
      "cell_type": "markdown",
      "metadata": {
        "id": "PpOdcudDlW_P"
      },
      "source": [
        "#### List Comprehensions\n",
        "List comprehensions are syntax borred from the functional language Haskell (https://docs.python.org/3/howto/functional.html). You can think of them as a one-line for loop which returns a list. Though there source is in functional programming, their use has become standard in all Python approches. \n",
        "\n",
        "The basic syntax for a list comprehension is :\n",
        "\n",
        "[ \\<item returned\\> for \\<source item\\> in \\<iterable\\> ] \n",
        "\n",
        "For example, given a list of names we wish to change to title capitalization, we would use x.title() as the item returned and each name as a source item:"
      ]
    },
    {
      "cell_type": "code",
      "metadata": {
        "colab": {
          "base_uri": "https://localhost:8080/"
        },
        "id": "QPDSmrUSDnMy",
        "outputId": "f41c9343-0090-4e65-ea80-c3b9c446b5f3"
      },
      "source": [
        "names = ['tim', 'tiger', 'tabassum', 'theodora', 'tanya']\n",
        "\n",
        "capd = [x.title() for x in names]\n",
        "\n",
        "capd"
      ],
      "execution_count": null,
      "outputs": [
        {
          "output_type": "execute_result",
          "data": {
            "text/plain": [
              "['Tim', 'Tiger', 'Tabassum', 'Theodora', 'Tanya']"
            ]
          },
          "metadata": {},
          "execution_count": 23
        }
      ]
    },
    {
      "cell_type": "markdown",
      "metadata": {
        "id": "xrPHjW_zfshX"
      },
      "source": [
        "The equivalent process using a for loop would be:"
      ]
    },
    {
      "cell_type": "code",
      "metadata": {
        "colab": {
          "base_uri": "https://localhost:8080/"
        },
        "id": "PCcVdA25CPfQ",
        "outputId": "6b456036-8dca-477a-8a23-f71f113a88a8"
      },
      "source": [
        "names = ['tim', 'tiger', 'tabassum', 'theodora', 'tanya']\n",
        "\n",
        "capd = []\n",
        "\n",
        "for name in names:\n",
        "  capd.append(name.title())\n",
        "  \n",
        "capd"
      ],
      "execution_count": null,
      "outputs": [
        {
          "output_type": "execute_result",
          "data": {
            "text/plain": [
              "['Tim', 'Tiger', 'Tabassum', 'Theodora', 'Tanya']"
            ]
          },
          "metadata": {},
          "execution_count": 24
        }
      ]
    },
    {
      "cell_type": "markdown",
      "metadata": {
        "id": "6uBqchOGHVLB"
      },
      "source": [
        "List comprehensions can be used as replacements for the map() and filter() functions. We can replace this code, which maps the number 0-5 with a function which inserts them into a string:"
      ]
    },
    {
      "cell_type": "code",
      "metadata": {
        "colab": {
          "base_uri": "https://localhost:8080/"
        },
        "id": "MieT1VOdHXHF",
        "outputId": "2ec0bcbc-c1ed-4bee-8120-1e3db565eee2"
      },
      "source": [
        "def count_flower_petals(d):\n",
        "  return f\"{d} petals counted so far\"\n",
        "\n",
        "counts = map(count_flower_petals, range(6))\n",
        "\n",
        "list(counts)"
      ],
      "execution_count": null,
      "outputs": [
        {
          "output_type": "execute_result",
          "data": {
            "text/plain": [
              "['0 petals counted so far',\n",
              " '1 petals counted so far',\n",
              " '2 petals counted so far',\n",
              " '3 petals counted so far',\n",
              " '4 petals counted so far',\n",
              " '5 petals counted so far']"
            ]
          },
          "metadata": {},
          "execution_count": 25
        }
      ]
    },
    {
      "cell_type": "markdown",
      "metadata": {
        "id": "ftNKvYi6HYYI"
      },
      "source": [
        "With this much simplier list comprehension:"
      ]
    },
    {
      "cell_type": "code",
      "metadata": {
        "colab": {
          "base_uri": "https://localhost:8080/"
        },
        "id": "Y5kzj8hEHdYF",
        "outputId": "96811a7e-64f2-4aec-8a07-2c0ca9281987"
      },
      "source": [
        "[f\"{x} petals counted so far\" for x in range(6)]"
      ],
      "execution_count": null,
      "outputs": [
        {
          "output_type": "execute_result",
          "data": {
            "text/plain": [
              "['0 petals counted so far',\n",
              " '1 petals counted so far',\n",
              " '2 petals counted so far',\n",
              " '3 petals counted so far',\n",
              " '4 petals counted so far',\n",
              " '5 petals counted so far']"
            ]
          },
          "metadata": {},
          "execution_count": 26
        }
      ]
    },
    {
      "cell_type": "markdown",
      "metadata": {
        "id": "f4jGnQsnEaRE"
      },
      "source": [
        "We can replace our filter() example, returning only capital letters:"
      ]
    },
    {
      "cell_type": "code",
      "metadata": {
        "colab": {
          "base_uri": "https://localhost:8080/"
        },
        "id": "pR3R6GX0ERfV",
        "outputId": "69081fe4-b8dc-45cd-c9ce-0b2c33bb01d7"
      },
      "source": [
        "characters = ['C', 'b', 'c', 'A', 'b','P', 'g', 'S']\n",
        "\n",
        "def cap(a):\n",
        "  return a.isupper()\n",
        "\n",
        "retval = filter(cap, characters)\n",
        "\n",
        "list(retval)"
      ],
      "execution_count": null,
      "outputs": [
        {
          "output_type": "execute_result",
          "data": {
            "text/plain": [
              "['C', 'A', 'P', 'S']"
            ]
          },
          "metadata": {},
          "execution_count": 27
        }
      ]
    },
    {
      "cell_type": "markdown",
      "metadata": {
        "id": "sXUpqOFtEeUU"
      },
      "source": [
        "With this list comprehension using a conditional:"
      ]
    },
    {
      "cell_type": "code",
      "metadata": {
        "colab": {
          "base_uri": "https://localhost:8080/"
        },
        "id": "c3tfofEaEnC4",
        "outputId": "11b8f944-0c90-4d57-87b4-61abda7e7b5f"
      },
      "source": [
        "characters = ['C', 'b', 'c', 'A', 'b','P', 'g', 'S']\n",
        "\n",
        "[x for x in characters if x.isupper()]"
      ],
      "execution_count": null,
      "outputs": [
        {
          "output_type": "execute_result",
          "data": {
            "text/plain": [
              "['C', 'A', 'P', 'S']"
            ]
          },
          "metadata": {},
          "execution_count": 28
        }
      ]
    },
    {
      "cell_type": "markdown",
      "metadata": {
        "id": "zWqshzzeJ397"
      },
      "source": [
        "The syntax for using a conditional with a list comprehension is:\n",
        "\n",
        "[ \\<item returned\\> for \\<source item\\> in \\<iterable\\> if \\<condition\\> ]\n",
        "\n",
        "It the items in the source iterable are sequences, we can unpack them by using multiple variables:"
      ]
    },
    {
      "cell_type": "code",
      "metadata": {
        "colab": {
          "base_uri": "https://localhost:8080/"
        },
        "id": "gqj1EwKKKJT7",
        "outputId": "6158dae6-b118-4487-c9da-c1f73dc18f79"
      },
      "source": [
        "points = [(12, 3), (-1, 33), (12, 0)]\n",
        "\n",
        "[ f'x: {x} y: {y}' for x, y in points ]"
      ],
      "execution_count": null,
      "outputs": [
        {
          "output_type": "execute_result",
          "data": {
            "text/plain": [
              "['x: 12 y: 3', 'x: -1 y: 33', 'x: 12 y: 0']"
            ]
          },
          "metadata": {},
          "execution_count": 29
        }
      ]
    },
    {
      "cell_type": "markdown",
      "metadata": {
        "id": "P3-NfW0DM0Gw"
      },
      "source": [
        "\n",
        "We can perform the equivalant of nested for loops by using multiple for..in statements in the same list comprehensions:"
      ]
    },
    {
      "cell_type": "code",
      "metadata": {
        "colab": {
          "base_uri": "https://localhost:8080/"
        },
        "id": "1bc22Je8MvZU",
        "outputId": "28c22410-73af-45d7-b70a-a540ad426176"
      },
      "source": [
        "list_of_lists = [[1,2,3], [4,5,6], [7,8,9]]\n",
        "\n",
        "\n",
        "[x for y in list_of_lists for x in y]"
      ],
      "execution_count": null,
      "outputs": [
        {
          "output_type": "execute_result",
          "data": {
            "text/plain": [
              "[1, 2, 3, 4, 5, 6, 7, 8, 9]"
            ]
          },
          "metadata": {},
          "execution_count": 30
        }
      ]
    },
    {
      "cell_type": "markdown",
      "metadata": {
        "id": "FUBMXxohlepM"
      },
      "source": [
        "#### Dict comprehensions\n",
        "\n",
        "Dictionary comprehensions rely on a similar syntax, but instead of having a single value appended to a list, a key value pair is added to a dictionary. Here is an example where we use the values in two lists to construct a dictionary."
      ]
    },
    {
      "cell_type": "code",
      "metadata": {
        "colab": {
          "base_uri": "https://localhost:8080/"
        },
        "id": "QyRUr21wPpjq",
        "outputId": "f6d3cdf8-cbca-4f40-93b2-9b284e976d33"
      },
      "source": [
        "names = ['James', 'Jokubus', 'Shaemus']\n",
        "scores = [12, 33, 23]\n",
        "\n",
        "{ name:score for name in names for score in scores}\n"
      ],
      "execution_count": null,
      "outputs": [
        {
          "output_type": "execute_result",
          "data": {
            "text/plain": [
              "{'James': 23, 'Jokubus': 23, 'Shaemus': 23}"
            ]
          },
          "metadata": {},
          "execution_count": 31
        }
      ]
    },
    {
      "cell_type": "markdown",
      "metadata": {
        "id": "eEJ_eMNPlvXE"
      },
      "source": [
        "### Generators\n",
        "\n",
        "One of the big advantages of a range object over a list when dealing with big numerical ranges is that the range object calculates results as you request them. This means that it's memory footprint is consitently small. Generators let us use our own calculations to create values on demand, in a similar way as range objects."
      ]
    },
    {
      "cell_type": "markdown",
      "metadata": {
        "id": "zYg3xNqLl44U"
      },
      "source": [
        "#### Generator Expressions\n",
        "\n",
        "One way to create generators is through generator expressions. These use the same syntax as list comprehensions except that the enclosing square brackets are replaced with parenthesis. In the next example we create a list and a generator based on the same calculation and print them."
      ]
    },
    {
      "cell_type": "code",
      "metadata": {
        "colab": {
          "base_uri": "https://localhost:8080/"
        },
        "id": "CI49Xf1Zpv34",
        "outputId": "b22f8fec-ff91-45b8-d6b0-827229293cb5"
      },
      "source": [
        "l_ten = [x**3 for x in range(10)]\n",
        "g_ten = (x**3 for x in range(10))\n",
        "\n",
        "print(f\"l_ten is a {type(l_ten)}\")\n",
        "print(f\"l_ten prints as: {l_ten}\")\n",
        "print(f\"g_ten is a {type(g_ten)}\")\n",
        "print(f\"g_ten prints as: {g_ten}\")"
      ],
      "execution_count": null,
      "outputs": [
        {
          "output_type": "stream",
          "name": "stdout",
          "text": [
            "l_ten is a <class 'list'>\n",
            "l_ten prints as: [0, 1, 8, 27, 64, 125, 216, 343, 512, 729]\n",
            "g_ten is a <class 'generator'>\n",
            "g_ten prints as: <generator object <genexpr> at 0x7f29bfb3c850>\n"
          ]
        }
      ]
    },
    {
      "cell_type": "markdown",
      "metadata": {
        "id": "GqsxTVkGhEIm"
      },
      "source": [
        "When we print the list, we can see it's contents, not so with a generator. To get a value from a generator we have to request the next one, we can do this using the next() function:"
      ]
    },
    {
      "cell_type": "code",
      "metadata": {
        "colab": {
          "base_uri": "https://localhost:8080/"
        },
        "id": "-wNqIpQ3Givl",
        "outputId": "ad6000a4-0d5a-4aaa-9893-4a12fe8b7f94"
      },
      "source": [
        "next(g_ten)"
      ],
      "execution_count": null,
      "outputs": [
        {
          "output_type": "execute_result",
          "data": {
            "text/plain": [
              "0"
            ]
          },
          "metadata": {},
          "execution_count": 33
        }
      ]
    },
    {
      "cell_type": "markdown",
      "metadata": {
        "id": "YR7wQDaCyE2Q"
      },
      "source": [
        "Or more commonly, by using iterating through it using a loop:"
      ]
    },
    {
      "cell_type": "code",
      "metadata": {
        "colab": {
          "base_uri": "https://localhost:8080/"
        },
        "id": "0k0L73YjvAxz",
        "outputId": "56782ec0-6df0-4077-d5f6-a84d5bf8bbdf"
      },
      "source": [
        "for x in g_ten:\n",
        "  print(x)\n"
      ],
      "execution_count": null,
      "outputs": [
        {
          "output_type": "stream",
          "name": "stdout",
          "text": [
            "1\n",
            "8\n",
            "27\n",
            "64\n",
            "125\n",
            "216\n",
            "343\n",
            "512\n",
            "729\n"
          ]
        }
      ]
    },
    {
      "cell_type": "markdown",
      "metadata": {
        "id": "rowGF4XOf8Ka"
      },
      "source": [
        "Because generator only generate values on demand, there is no way to index or slice them:"
      ]
    },
    {
      "cell_type": "code",
      "metadata": {
        "colab": {
          "base_uri": "https://localhost:8080/",
          "height": 168
        },
        "id": "i6jk8wqS_Uuw",
        "outputId": "64dda71c-7aa9-467e-dc50-4410e00bd95a"
      },
      "source": [
        "g_ten[3]"
      ],
      "execution_count": null,
      "outputs": [
        {
          "output_type": "error",
          "ename": "TypeError",
          "evalue": "ignored",
          "traceback": [
            "\u001b[0;31m---------------------------------------------------------------------------\u001b[0m",
            "\u001b[0;31mTypeError\u001b[0m                                 Traceback (most recent call last)",
            "\u001b[0;32m<ipython-input-36-75d1c5663e70>\u001b[0m in \u001b[0;36m<module>\u001b[0;34m()\u001b[0m\n\u001b[0;32m----> 1\u001b[0;31m \u001b[0mg_ten\u001b[0m\u001b[0;34m[\u001b[0m\u001b[0;36m3\u001b[0m\u001b[0;34m]\u001b[0m\u001b[0;34m\u001b[0m\u001b[0;34m\u001b[0m\u001b[0m\n\u001b[0m",
            "\u001b[0;31mTypeError\u001b[0m: 'generator' object is not subscriptable"
          ]
        }
      ]
    },
    {
      "cell_type": "markdown",
      "metadata": {
        "id": "cPELitYxgKCV"
      },
      "source": [
        "One of the important advantages of generators over lists is there memory footprint. Here we use the sys.getsizeof() function to compare the sizes of a list and a generator:"
      ]
    },
    {
      "cell_type": "code",
      "metadata": {
        "colab": {
          "base_uri": "https://localhost:8080/"
        },
        "id": "PDL0ne2AvGwr",
        "outputId": "2702c55f-1671-4e36-fdef-4033e7338ad9"
      },
      "source": [
        "import sys\n",
        "x = 100000000\n",
        "l_big = [x for x in range(x)]\n",
        "g_big = (x for x in range(x))\n",
        "\n",
        "print( f\"l_big is {sys.getsizeof(l_big)} bytes\")\n",
        "print( f\"g_big is {sys.getsizeof(g_big)} bytes\")"
      ],
      "execution_count": null,
      "outputs": [
        {
          "output_type": "stream",
          "name": "stdout",
          "text": [
            "l_big is 859724480 bytes\n",
            "g_big is 128 bytes\n"
          ]
        }
      ]
    },
    {
      "cell_type": "markdown",
      "metadata": {
        "id": "n_kqQG7usG8e"
      },
      "source": [
        "##### Generator functions\n",
        "\n",
        "You can use generator functions to create generators that are more complex. These look like normal functions with the return statement replaced with a yeild statement. The generator will keep it's own internal state, returning values as requested:"
      ]
    },
    {
      "cell_type": "code",
      "metadata": {
        "colab": {
          "base_uri": "https://localhost:8080/"
        },
        "id": "kimMnJ_KusGM",
        "outputId": "1411b457-b7cf-4340-a820-e6deac49d7e8"
      },
      "source": [
        "def square_them(numbers):\n",
        "  for number in numbers:\n",
        "    yield number * number\n",
        "    \n",
        "  \n",
        "s = square_them(range(10000))\n",
        "\n",
        "print(next(s))\n",
        "print(next(s))\n",
        "print(next(s))\n",
        "print(next(s))"
      ],
      "execution_count": null,
      "outputs": [
        {
          "output_type": "stream",
          "name": "stdout",
          "text": [
            "0\n",
            "1\n",
            "4\n",
            "9\n"
          ]
        }
      ]
    },
    {
      "cell_type": "markdown",
      "metadata": {
        "id": "HW-lco4AuoQj"
      },
      "source": [
        "\n",
        "An additional advantage of generators over lists is the ability to create an infinite generator. This is a generator with no end! It will return as many values as requested. For example, we can make a generator which increments a number as many times as we like:"
      ]
    },
    {
      "cell_type": "code",
      "metadata": {
        "id": "vv-uU-F_fapM"
      },
      "source": [
        "def counter(d):\n",
        "  \n",
        "  while True:\n",
        "    d += 1\n",
        "    yield d"
      ],
      "execution_count": null,
      "outputs": []
    },
    {
      "cell_type": "code",
      "metadata": {
        "colab": {
          "base_uri": "https://localhost:8080/"
        },
        "id": "dgJGyw-UsEng",
        "outputId": "c4e81e39-1eab-4658-e00b-5b9bbb087d73"
      },
      "source": [
        "c = counter(10)\n",
        "\n",
        "print(next(c))\n",
        "print(next(c))\n",
        "print(next(c))"
      ],
      "execution_count": null,
      "outputs": [
        {
          "output_type": "stream",
          "name": "stdout",
          "text": [
            "11\n",
            "12\n",
            "13\n"
          ]
        }
      ]
    },
    {
      "cell_type": "markdown",
      "metadata": {
        "id": "LPP_qvo8kmVg"
      },
      "source": [
        "In listing... we chain four generators together. This is a useful way to keep each generator understandable, while still harnessing their just in time calculations."
      ]
    },
    {
      "cell_type": "code",
      "metadata": {
        "colab": {
          "base_uri": "https://localhost:8080/"
        },
        "id": "Upc6d_95p3nW",
        "outputId": "f053e73d-7a5d-41bf-d567-d9bd5b22fa15"
      },
      "source": [
        "evens = (x*2 for x in range(5000000))\n",
        "three_factors = (x//3 for x in evens if x%3 == 0)\n",
        "titles = (f\"this number is {x}\" for x in three_factors)\n",
        "capped = (x.title() for x in titles)\n",
        "\n",
        "print(f\"The first call to capped: {next(capped)}\")\n",
        "print(f\"The second call to capped: {next(capped)}\")\n",
        "print(f\"The third call to capped: {next(capped)}\")"
      ],
      "execution_count": null,
      "outputs": [
        {
          "output_type": "stream",
          "name": "stdout",
          "text": [
            "The first call to capped: This Number Is 0\n",
            "The second call to capped: This Number Is 2\n",
            "The third call to capped: This Number Is 4\n"
          ]
        }
      ]
    },
    {
      "cell_type": "markdown",
      "metadata": {
        "id": "WY5CITeNk_FP"
      },
      "source": [
        "Generators are a great way to make your code performant. You should consider using them when ever you are iterating through a long sequence of calculated values.\n",
        "\n",
        "## Summary\n",
        "Functional programming is a approach to organizing your programs which is useful for designing software which can be run concurrently. It is based on the idea that a functions inner state should be changed by or change the outer state of the code calling it. A function should always return the same value for a given input. Some built-in functions that come from the functional programming world are map(), filter(), and reduce(). List comprehensions and generators are both very Pythonic ways of creating a sequence of values. Generators are recomended when iteratoring through any large number of values, or when you don't know how many values you need.\n"
      ]
    }
  ]
}